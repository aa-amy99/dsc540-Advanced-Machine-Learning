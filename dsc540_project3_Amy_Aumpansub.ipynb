{
 "cells": [
  {
   "cell_type": "markdown",
   "metadata": {},
   "source": [
    "# DSC540 Project 3"
   ]
  },
  {
   "cell_type": "markdown",
   "metadata": {},
   "source": [
    "DePaul University  \n",
    "Ilyas Ustun, PhD  \n",
    "Chicago, IL  "
   ]
  },
  {
   "cell_type": "markdown",
   "metadata": {},
   "source": [
    "## Rules\n",
    "- Do not change the code already present in the notebook.\n",
    "- Write your code under the corresponding questions where you see `# Code here`. You are encouraged to use more than one cell.\n",
    "- Provide explanation in a separate Markdown formatted cell. \n",
    "- You can change the cell type by:\n",
    "    - Clicking on the outer area of the cell type you want to change,\n",
    "    - Go to the top, and select either Code or Markdown from the dropdown menu.\n",
    "- Be concise in your explanations and conclusions.\n",
    "- Write clear code and provide explanation to functions you create by using `#` comment sign.\n",
    "- For built-in function and methods you use from libraries, provide a very brief explanation of what they do.\n",
    "- Try to answer the questions by yourself. Use documentation from pandas, sklearn and similar libraries to solve the problem.\n",
    "- If you are stuck you can use different resources. Do not find an identical project and copy paste the solutions. \n",
    "- Write your name before beginning to code.\n",
    "\n",
    "\n",
    "Important:  \n",
    "- **Do NOT share the solutions with other people.**\n",
    "- **Do NOT share the solutions on the internet including but not limited to Github and other platforms.**\n",
    "- Sign the Honor Pledge below indicating that you have agreed to these rules listed here, and any other ethical and honor rules as required by the university.\n",
    "\n",
    "\n",
    "\n",
    "- **Deliverables:**\n",
    "    1. The Python Jupyter notebook file named properly with your name. Example: dsc540_project1_john_doe.ipynb\n",
    "    2. The HTML output of this code notebook names the same way. Example: dsc540_project1_john_doe.html\n",
    "        - File -> Download as -> HTML   \n",
    "\n",
    "Good Luck!"
   ]
  },
  {
   "cell_type": "markdown",
   "metadata": {},
   "source": [
    "### Amy Aumpansub"
   ]
  },
  {
   "cell_type": "markdown",
   "metadata": {},
   "source": [
    "**Honor Pledge:**  \n",
    "I pledge on my honor that I, **Amy Aumpansub**, have followed the rules listed above, that I have not given or received any unauthorized assistance on this assignment. \n"
   ]
  },
  {
   "cell_type": "markdown",
   "metadata": {},
   "source": [
    "\n",
    "## Project Description\n",
    "\n",
    "In this project we will be analyzing CO and NOX gas emissions from a power plant. The variables, their meanings and some statistics are given in the table below."
   ]
  },
  {
   "cell_type": "markdown",
   "metadata": {},
   "source": [
    "![PowerPlantEmissionsFeaturesTable](PowerPlantEmissionsFeaturesTable.PNG)"
   ]
  },
  {
   "cell_type": "markdown",
   "metadata": {},
   "source": [
    "## Import Libraries\n",
    "\n",
    "**Import the usual libraries for pandas and plotting, and sklearn.**"
   ]
  },
  {
   "cell_type": "code",
   "execution_count": 1,
   "metadata": {},
   "outputs": [],
   "source": [
    "import pandas as pd\n",
    "import numpy as np\n",
    "import matplotlib.pyplot as plt\n",
    "import seaborn as sns\n",
    "from sklearn import metrics"
   ]
  },
  {
   "cell_type": "code",
   "execution_count": 2,
   "metadata": {},
   "outputs": [
    {
     "data": {
      "text/plain": [
       "'0.23.1'"
      ]
     },
     "execution_count": 2,
     "metadata": {},
     "output_type": "execute_result"
    }
   ],
   "source": [
    "import sklearn\n",
    "sklearn.__version__"
   ]
  },
  {
   "cell_type": "code",
   "execution_count": 3,
   "metadata": {},
   "outputs": [],
   "source": [
    "pd.set_option('display.max_columns', 100)"
   ]
  },
  {
   "cell_type": "markdown",
   "metadata": {},
   "source": [
    "### These are the packages I used"
   ]
  },
  {
   "cell_type": "code",
   "execution_count": 4,
   "metadata": {},
   "outputs": [],
   "source": [
    "# Your package imports here\n",
    "from math import sqrt\n",
    "import pandas as pd\n",
    "from sklearn.model_selection import GridSearchCV\n",
    "from sklearn.svm import SVC\n",
    "from sklearn.metrics import balanced_accuracy_score\n",
    "from sklearn.ensemble import RandomForestClassifier\n",
    "from sklearn.ensemble import RandomForestRegressor\n",
    "from sklearn.tree import DecisionTreeClassifier\n",
    "from sklearn.linear_model import LinearRegression\n",
    "\n",
    "import warnings\n",
    "warnings.filterwarnings('ignore', category=FutureWarning)\n",
    "warnings.filterwarnings('ignore', category=DeprecationWarning)"
   ]
  },
  {
   "cell_type": "markdown",
   "metadata": {},
   "source": [
    "## Q1 [10]\n",
    "- Read in the dataset\n",
    "- How many rows and variables are there?\n"
   ]
  },
  {
   "cell_type": "markdown",
   "metadata": {},
   "source": [
    "## Get the Data\n",
    "\n",
    "**Use pandas to read in the datasets as a dataframe.**"
   ]
  },
  {
   "cell_type": "code",
   "execution_count": 5,
   "metadata": {},
   "outputs": [],
   "source": [
    "df = pd.read_csv(\"gas_emissions.csv\")"
   ]
  },
  {
   "cell_type": "code",
   "execution_count": 6,
   "metadata": {},
   "outputs": [
    {
     "data": {
      "text/html": [
       "<div>\n",
       "<style scoped>\n",
       "    .dataframe tbody tr th:only-of-type {\n",
       "        vertical-align: middle;\n",
       "    }\n",
       "\n",
       "    .dataframe tbody tr th {\n",
       "        vertical-align: top;\n",
       "    }\n",
       "\n",
       "    .dataframe thead th {\n",
       "        text-align: right;\n",
       "    }\n",
       "</style>\n",
       "<table border=\"1\" class=\"dataframe\">\n",
       "  <thead>\n",
       "    <tr style=\"text-align: right;\">\n",
       "      <th></th>\n",
       "      <th>AT</th>\n",
       "      <th>AP</th>\n",
       "      <th>AH</th>\n",
       "      <th>AFDP</th>\n",
       "      <th>GTEP</th>\n",
       "      <th>TIT</th>\n",
       "      <th>TAT</th>\n",
       "      <th>TEY</th>\n",
       "      <th>CDP</th>\n",
       "      <th>CO</th>\n",
       "      <th>NOX</th>\n",
       "    </tr>\n",
       "  </thead>\n",
       "  <tbody>\n",
       "    <tr>\n",
       "      <th>0</th>\n",
       "      <td>1.95320</td>\n",
       "      <td>1020.1</td>\n",
       "      <td>84.985</td>\n",
       "      <td>2.5304</td>\n",
       "      <td>20.116</td>\n",
       "      <td>1048.7</td>\n",
       "      <td>544.92</td>\n",
       "      <td>116.27</td>\n",
       "      <td>10.799</td>\n",
       "      <td>7.4491</td>\n",
       "      <td>113.250</td>\n",
       "    </tr>\n",
       "    <tr>\n",
       "      <th>1</th>\n",
       "      <td>1.21910</td>\n",
       "      <td>1020.1</td>\n",
       "      <td>87.523</td>\n",
       "      <td>2.3937</td>\n",
       "      <td>18.584</td>\n",
       "      <td>1045.5</td>\n",
       "      <td>548.50</td>\n",
       "      <td>109.18</td>\n",
       "      <td>10.347</td>\n",
       "      <td>6.4684</td>\n",
       "      <td>112.020</td>\n",
       "    </tr>\n",
       "    <tr>\n",
       "      <th>2</th>\n",
       "      <td>0.94915</td>\n",
       "      <td>1022.2</td>\n",
       "      <td>78.335</td>\n",
       "      <td>2.7789</td>\n",
       "      <td>22.264</td>\n",
       "      <td>1068.8</td>\n",
       "      <td>549.95</td>\n",
       "      <td>125.88</td>\n",
       "      <td>11.256</td>\n",
       "      <td>3.6335</td>\n",
       "      <td>88.147</td>\n",
       "    </tr>\n",
       "    <tr>\n",
       "      <th>3</th>\n",
       "      <td>1.00750</td>\n",
       "      <td>1021.7</td>\n",
       "      <td>76.942</td>\n",
       "      <td>2.8170</td>\n",
       "      <td>23.358</td>\n",
       "      <td>1075.2</td>\n",
       "      <td>549.63</td>\n",
       "      <td>132.21</td>\n",
       "      <td>11.702</td>\n",
       "      <td>3.1972</td>\n",
       "      <td>87.078</td>\n",
       "    </tr>\n",
       "    <tr>\n",
       "      <th>4</th>\n",
       "      <td>1.28580</td>\n",
       "      <td>1021.6</td>\n",
       "      <td>76.732</td>\n",
       "      <td>2.8377</td>\n",
       "      <td>23.483</td>\n",
       "      <td>1076.2</td>\n",
       "      <td>549.68</td>\n",
       "      <td>133.58</td>\n",
       "      <td>11.737</td>\n",
       "      <td>2.3833</td>\n",
       "      <td>82.515</td>\n",
       "    </tr>\n",
       "  </tbody>\n",
       "</table>\n",
       "</div>"
      ],
      "text/plain": [
       "        AT      AP      AH    AFDP    GTEP     TIT     TAT     TEY     CDP  \\\n",
       "0  1.95320  1020.1  84.985  2.5304  20.116  1048.7  544.92  116.27  10.799   \n",
       "1  1.21910  1020.1  87.523  2.3937  18.584  1045.5  548.50  109.18  10.347   \n",
       "2  0.94915  1022.2  78.335  2.7789  22.264  1068.8  549.95  125.88  11.256   \n",
       "3  1.00750  1021.7  76.942  2.8170  23.358  1075.2  549.63  132.21  11.702   \n",
       "4  1.28580  1021.6  76.732  2.8377  23.483  1076.2  549.68  133.58  11.737   \n",
       "\n",
       "       CO      NOX  \n",
       "0  7.4491  113.250  \n",
       "1  6.4684  112.020  \n",
       "2  3.6335   88.147  \n",
       "3  3.1972   87.078  \n",
       "4  2.3833   82.515  "
      ]
     },
     "execution_count": 6,
     "metadata": {},
     "output_type": "execute_result"
    }
   ],
   "source": [
    "df.head()"
   ]
  },
  {
   "cell_type": "code",
   "execution_count": 7,
   "metadata": {},
   "outputs": [
    {
     "name": "stdout",
     "output_type": "stream",
     "text": [
      "<class 'pandas.core.frame.DataFrame'>\n",
      "RangeIndex: 7384 entries, 0 to 7383\n",
      "Data columns (total 11 columns):\n",
      " #   Column  Non-Null Count  Dtype  \n",
      "---  ------  --------------  -----  \n",
      " 0   AT      7384 non-null   float64\n",
      " 1   AP      7384 non-null   float64\n",
      " 2   AH      7384 non-null   float64\n",
      " 3   AFDP    7384 non-null   float64\n",
      " 4   GTEP    7384 non-null   float64\n",
      " 5   TIT     7384 non-null   float64\n",
      " 6   TAT     7384 non-null   float64\n",
      " 7   TEY     7384 non-null   float64\n",
      " 8   CDP     7384 non-null   float64\n",
      " 9   CO      7384 non-null   float64\n",
      " 10  NOX     7384 non-null   float64\n",
      "dtypes: float64(11)\n",
      "memory usage: 634.7 KB\n"
     ]
    }
   ],
   "source": [
    "df.info()"
   ]
  },
  {
   "cell_type": "markdown",
   "metadata": {},
   "source": [
    "**Answer:  There are 7384 rows and 11 variables.**"
   ]
  },
  {
   "cell_type": "markdown",
   "metadata": {},
   "source": [
    "#### What is the average value of AP for those points who have CO levels above 3 mg/m3?"
   ]
  },
  {
   "cell_type": "code",
   "execution_count": 8,
   "metadata": {},
   "outputs": [
    {
     "data": {
      "text/plain": [
       "1015.6900173490633"
      ]
     },
     "execution_count": 8,
     "metadata": {},
     "output_type": "execute_result"
    }
   ],
   "source": [
    "# Your code\n",
    "df.loc[df['CO'] > 3, 'AP'].mean()"
   ]
  },
  {
   "cell_type": "markdown",
   "metadata": {},
   "source": [
    "**Answer:  The average value of AP having CO levels above 3 mg/m3 is: 1015.69**"
   ]
  },
  {
   "cell_type": "markdown",
   "metadata": {},
   "source": [
    "#### Create a correlation map between the variables. Which variables have high correlation?"
   ]
  },
  {
   "cell_type": "code",
   "execution_count": 9,
   "metadata": {},
   "outputs": [
    {
     "data": {
      "image/png": "[encoded data removed]",
      "text/plain": [
       "<Figure size 576x504 with 2 Axes>"
      ]
     },
     "metadata": {
      "needs_background": "light"
     },
     "output_type": "display_data"
    }
   ],
   "source": [
    "# Your code\n",
    "corr = df.corr()\n",
    "f, ax = plt.subplots(figsize=(8, 7))\n",
    "t= f.suptitle('Correlation Map', fontsize=10)\n",
    "hm = sns.heatmap(round(corr,2), annot=True, ax=ax, cmap=\"coolwarm\",fmt='.2f')\n",
    "f.subplots_adjust(top=0.95)"
   ]
  },
  {
   "cell_type": "markdown",
   "metadata": {},
   "source": [
    "**Answer:** \n",
    "- The AFDP, GTEP, TIT, TEY, CDP variables have a high and positive correation among them indicated by the correlation value around 0.8-0.9. \n",
    "- For example, The AFDP variable has a high and positive correation with the GTEP, TIT, TEY, CDP variables indicated by the correlation value over 0.8. Simlarily, The GTEP variable also has a high and positive correation with the AFDP, TIT, TEY, CDP variables indicated by the correlation value approximately 0.8-0.9.\n",
    "- The CO and NOX has a moderate positive correlation with the value of 0.68.\n",
    "- The AFDP and CO has a moderate negative correlation with the value of -0.64."
   ]
  },
  {
   "cell_type": "markdown",
   "metadata": {},
   "source": [
    "#### Create a scatter plot of 'TEY' vs 'CDP'"
   ]
  },
  {
   "cell_type": "code",
   "execution_count": 10,
   "metadata": {},
   "outputs": [
    {
     "data": {
      "text/plain": [
       "<matplotlib.axes._subplots.AxesSubplot at 0x12632a5b0>"
      ]
     },
     "execution_count": 10,
     "metadata": {},
     "output_type": "execute_result"
    },
    {
     "data": {
      "image/png": "[encoded data removed]",
      "text/plain": [
       "<Figure size 432x288 with 1 Axes>"
      ]
     },
     "metadata": {
      "needs_background": "light"
     },
     "output_type": "display_data"
    }
   ],
   "source": [
    "# Your code\n",
    "sns.scatterplot(data = df, x='CDP', y='TEY')"
   ]
  },
  {
   "cell_type": "markdown",
   "metadata": {},
   "source": [
    "#### Create histograms for CO and NOX."
   ]
  },
  {
   "cell_type": "code",
   "execution_count": 11,
   "metadata": {},
   "outputs": [
    {
     "data": {
      "image/png": "[encoded data removed]",
      "text/plain": [
       "<Figure size 432x288 with 1 Axes>"
      ]
     },
     "metadata": {
      "needs_background": "light"
     },
     "output_type": "display_data"
    }
   ],
   "source": [
    "plt.hist(df['CO'], density=False, bins=30)  # `density=False` would make counts\n",
    "plt.ylabel('Counts')\n",
    "plt.xlabel('CO')\n",
    "plt.title('CO distributions')\n",
    "plt.show()"
   ]
  },
  {
   "cell_type": "code",
   "execution_count": 12,
   "metadata": {},
   "outputs": [
    {
     "data": {
      "image/png": "[encoded data removed]",
      "text/plain": [
       "<Figure size 432x288 with 1 Axes>"
      ]
     },
     "metadata": {
      "needs_background": "light"
     },
     "output_type": "display_data"
    }
   ],
   "source": [
    "# Your code\n",
    "plt.hist(df['NOX'], density=False, bins=30) \n",
    "plt.ylabel('Counts')\n",
    "plt.xlabel('NOX')\n",
    "plt.title('NOX distributions')\n",
    "plt.show()"
   ]
  },
  {
   "cell_type": "markdown",
   "metadata": {},
   "source": [
    "### Prepare data from machine learning"
   ]
  },
  {
   "cell_type": "markdown",
   "metadata": {},
   "source": [
    "We will predict CO using all the other variables. The NOX will not be used. That is another emission gas that can be predicted as well."
   ]
  },
  {
   "cell_type": "code",
   "execution_count": 13,
   "metadata": {},
   "outputs": [],
   "source": [
    "y = df.CO\n",
    "X = df.drop(['CO', 'NOX'], axis=1)"
   ]
  },
  {
   "cell_type": "code",
   "execution_count": 14,
   "metadata": {},
   "outputs": [],
   "source": [
    "from sklearn.model_selection import train_test_split\n",
    "X_train, X_test, y_train, y_test = train_test_split(X, y, test_size=0.10, random_state=555)\n",
    "X_train, X_val, y_train, y_val = train_test_split(X_train, y_train, test_size=0.30, random_state=555)"
   ]
  },
  {
   "cell_type": "code",
   "execution_count": 15,
   "metadata": {},
   "outputs": [],
   "source": [
    "# Standardization of the data\n",
    "from sklearn.preprocessing import StandardScaler\n",
    "ss = StandardScaler()\n",
    "ss.fit(X_train)\n",
    "X_train = ss.transform(X_train)\n",
    "X_val = ss.transform(X_val)\n",
    "X_test = ss.transform(X_test)"
   ]
  },
  {
   "cell_type": "code",
   "execution_count": 16,
   "metadata": {},
   "outputs": [
    {
     "data": {
      "text/plain": [
       "(4651, 9)"
      ]
     },
     "execution_count": 16,
     "metadata": {},
     "output_type": "execute_result"
    }
   ],
   "source": [
    "X_train.shape"
   ]
  },
  {
   "cell_type": "code",
   "execution_count": 17,
   "metadata": {},
   "outputs": [
    {
     "data": {
      "text/plain": [
       "(1994, 9)"
      ]
     },
     "execution_count": 17,
     "metadata": {},
     "output_type": "execute_result"
    }
   ],
   "source": [
    "X_val.shape"
   ]
  },
  {
   "cell_type": "code",
   "execution_count": 18,
   "metadata": {},
   "outputs": [
    {
     "data": {
      "text/plain": [
       "(739, 9)"
      ]
     },
     "execution_count": 18,
     "metadata": {},
     "output_type": "execute_result"
    }
   ],
   "source": [
    "X_test.shape"
   ]
  },
  {
   "cell_type": "markdown",
   "metadata": {},
   "source": [
    "## Q2 [10]"
   ]
  },
  {
   "cell_type": "markdown",
   "metadata": {},
   "source": [
    "- Apply Linear Regression. Predict CO emission using other variables.\n",
    "    - What is the model $R^2$ (on training data)?\n",
    "    - What is the $R^2$ on validation data?\n",
    "    - What is the Root Mean Squared Error (RMSE) on training data?\n",
    "    - What is the RMSE on validation data?\n",
    "    \n",
    "> - $R^2$ higher is better. ($R^2$ is % variation in data being explained)  \n",
    "> - RMSE lower is better. (RMSE is error, meaning the difference between predictions and actual data)  \n",
    "\n",
    "Hint:  \n",
    "- You can use the `r2_score` and `mean_squared_error` methods in `sklearn.metrics`.   \n",
    "- You need to take the square root of Mean Squared Error to get to RMSE. (MSE $->$ square root $->$ RMSE)"
   ]
  },
  {
   "cell_type": "code",
   "execution_count": 19,
   "metadata": {},
   "outputs": [],
   "source": [
    "from sklearn.linear_model import LinearRegression"
   ]
  },
  {
   "cell_type": "code",
   "execution_count": 20,
   "metadata": {},
   "outputs": [],
   "source": [
    "from sklearn import metrics"
   ]
  },
  {
   "cell_type": "code",
   "execution_count": 21,
   "metadata": {},
   "outputs": [],
   "source": [
    "reg = LinearRegression()"
   ]
  },
  {
   "cell_type": "code",
   "execution_count": 22,
   "metadata": {},
   "outputs": [
    {
     "data": {
      "text/plain": [
       "LinearRegression()"
      ]
     },
     "execution_count": 22,
     "metadata": {},
     "output_type": "execute_result"
    }
   ],
   "source": [
    "reg.fit(X_train, y_train)"
   ]
  },
  {
   "cell_type": "markdown",
   "metadata": {},
   "source": [
    "#### Compute R2"
   ]
  },
  {
   "cell_type": "code",
   "execution_count": 23,
   "metadata": {},
   "outputs": [
    {
     "name": "stdout",
     "output_type": "stream",
     "text": [
      "R2 Score (Train):  0.646875213677454\n",
      "R2 Score (Validation):  0.6290818432737131\n"
     ]
    }
   ],
   "source": [
    "#Compute R2\n",
    "\n",
    "pred_train = reg.predict(X_train)\n",
    "pred_val = reg.predict(X_val)\n",
    "\n",
    "r2_train = metrics.r2_score(y_train, pred_train)\n",
    "r2_val = metrics.r2_score(y_val, pred_val)\n",
    "print(\"R2 Score (Train): \", r2_train )\n",
    "print(\"R2 Score (Validation): \",r2_val)"
   ]
  },
  {
   "cell_type": "markdown",
   "metadata": {},
   "source": [
    "#### Compute RMSE"
   ]
  },
  {
   "cell_type": "code",
   "execution_count": 24,
   "metadata": {},
   "outputs": [
    {
     "name": "stdout",
     "output_type": "stream",
     "text": [
      "RMSE (Train):  1.3132338270806216\n",
      "RMSE (Validation):  1.3917448633939091\n"
     ]
    }
   ],
   "source": [
    "#Compute RMSE\n",
    "\n",
    "rmse_train = sqrt(metrics.mean_squared_error(y_train, pred_train))\n",
    "rmse_val = sqrt(metrics.mean_squared_error(y_val, pred_val))\n",
    "\n",
    "print(\"RMSE (Train): \", rmse_train)\n",
    "print(\"RMSE (Validation): \",rmse_val)"
   ]
  },
  {
   "cell_type": "markdown",
   "metadata": {},
   "source": [
    "**Answer:**\n",
    "- The R2 Score (Train) is 64.6% and R2 Score (Validation) is 62.9%, the model can fairly explain the data in which the R2 scores for train (higher) is slightly better than that of validation set.\n",
    "- The RMSE (Train) is 1.31 and The RMSE  (Validation) is 1.39. The training RMSE with a lower value is slightly better than that of  validation set."
   ]
  },
  {
   "cell_type": "markdown",
   "metadata": {},
   "source": [
    "## Q3 [10]"
   ]
  },
  {
   "cell_type": "markdown",
   "metadata": {},
   "source": [
    "- Apply Random Forest Regression with 100 trees. Predict CO emission using other variables.\n",
    "    - What is the model $R^2$?\n",
    "    - What is the $R^2$ on validation data?\n",
    "    - What is the RMSE on training data?\n",
    "    - What is the RMSE on validation data?\n",
    "\n",
    "- Is training and validation score close? If not what might be the problem?\n",
    "- If there is a large gap, try to decrease the gap by changing some hyperparameters of the Random Forest model. (In this analysis, any difference more than 0.10 $R^2$ difference can be assumed to be large.)\n",
    "    - Once you reach a difference of less than or close to 0.10 between training $R^2$ and validation $R^2$ you can stop. \n",
    "    - During this process your training score will probably decrease, and that is OK. "
   ]
  },
  {
   "cell_type": "code",
   "execution_count": 25,
   "metadata": {},
   "outputs": [],
   "source": [
    "from sklearn.ensemble import RandomForestRegressor"
   ]
  },
  {
   "cell_type": "code",
   "execution_count": 26,
   "metadata": {},
   "outputs": [],
   "source": [
    "reg = RandomForestRegressor(n_estimators=100, random_state=42)"
   ]
  },
  {
   "cell_type": "code",
   "execution_count": 27,
   "metadata": {},
   "outputs": [
    {
     "data": {
      "text/plain": [
       "RandomForestRegressor(random_state=42)"
      ]
     },
     "execution_count": 27,
     "metadata": {},
     "output_type": "execute_result"
    }
   ],
   "source": [
    "# Your code\n",
    "reg.fit(X_train, y_train)"
   ]
  },
  {
   "cell_type": "code",
   "execution_count": 28,
   "metadata": {},
   "outputs": [
    {
     "name": "stdout",
     "output_type": "stream",
     "text": [
      "R2 Score (Train):  0.9629604436026409\n",
      "R2 Score (Validation):  0.7510332972357139\n"
     ]
    }
   ],
   "source": [
    "# Your code\n",
    "\n",
    "#Compute R2\n",
    "pred_train = reg.predict(X_train)\n",
    "pred_val = reg.predict(X_val)\n",
    "\n",
    "r2_train = metrics.r2_score(y_train, pred_train)\n",
    "r2_val = metrics.r2_score(y_val, pred_val)\n",
    "print(\"R2 Score (Train): \", r2_train )\n",
    "print(\"R2 Score (Validation): \",r2_val)"
   ]
  },
  {
   "cell_type": "code",
   "execution_count": 29,
   "metadata": {},
   "outputs": [
    {
     "name": "stdout",
     "output_type": "stream",
     "text": [
      "RMSE (Train):  0.4253151454621139\n",
      "RMSE (Validation):  1.1402267212656092\n"
     ]
    }
   ],
   "source": [
    "#Compute RMSE\n",
    "\n",
    "rmse_train = sqrt(metrics.mean_squared_error(y_train, pred_train))\n",
    "rmse_val = sqrt(metrics.mean_squared_error(y_val, pred_val))\n",
    "\n",
    "print(\"RMSE (Train): \", rmse_train)\n",
    "print(\"RMSE (Validation): \",rmse_val)"
   ]
  },
  {
   "cell_type": "markdown",
   "metadata": {},
   "source": [
    "- The R2 Score (Train) is 96% and R2 Score (Validation) is 75%, the R2 scores for train is significantly higher than that of validation set.\n",
    "- The difference in R2 is 22%, implying the overfitting problem.\n",
    "- The RMSE (Train) is 0.42 and The RMSE  (Validation) is 1.14. The training RMSE is greatly lower than that of validation set.\n",
    "- Both R2 score and RMSE for train and validation sets are not close and have difference greater than 0.10 so the model has an overfitting problem which may be caused from the the number of estimators. \n",
    "- So, we will find the best value of n_estimators and refit the model again."
   ]
  },
  {
   "cell_type": "markdown",
   "metadata": {},
   "source": [
    "**Find the best number of estimators**"
   ]
  },
  {
   "cell_type": "code",
   "execution_count": 30,
   "metadata": {},
   "outputs": [],
   "source": [
    "E_list = [10, 30, 50, 70, 100, 150]\n",
    "r2_train = []\n",
    "r2_valid = []\n",
    "rmse_valid = []\n",
    "rmse_train = []\n",
    "for e in E_list:\n",
    "    reg =  RandomForestRegressor(n_estimators = e , random_state = 42)\n",
    "    reg.fit(X_train, y_train)\n",
    "    #Train\n",
    "    pred_train = reg.predict(X_train)\n",
    "    r2_train.append(metrics.r2_score(y_train, pred_train))\n",
    "    rmse_train.append(sqrt(metrics.mean_squared_error(y_train, pred_train)))\n",
    "    #Valid\n",
    "    pred_val = reg.predict(X_val)\n",
    "    r2_valid.append(metrics.r2_score(y_val, pred_val))\n",
    "    rmse_valid.append(sqrt(metrics.mean_squared_error(y_val, pred_val)))"
   ]
  },
  {
   "cell_type": "code",
   "execution_count": 31,
   "metadata": {},
   "outputs": [
    {
     "data": {
      "image/png": "[encoded data removed]",
      "text/plain": [
       "<Figure size 720x360 with 1 Axes>"
      ]
     },
     "metadata": {
      "needs_background": "light"
     },
     "output_type": "display_data"
    }
   ],
   "source": [
    "# Code here Plot R2 Curve\n",
    "plt.figure(figsize=(10,5))\n",
    "plt.title(\"The R2 Curve of RandomForestRegressor\")\n",
    "plt.plot(r2_train, 'bo--', label = 'train')\n",
    "plt.plot(r2_valid,'go--', label = 'valid')\n",
    "plt.xticks(np.arange(len(E_list)), E_list, rotation = 45)\n",
    "plt.xlabel('n_estimators')\n",
    "plt.ylabel('R2 Scores')\n",
    "plt.legend()\n",
    "plt.show()"
   ]
  },
  {
   "cell_type": "markdown",
   "metadata": {},
   "source": [
    "- The best number of estimator is 50 where the gap between the R2 scores of both training and validation are smallest. \n",
    "- However, the r2 scores are still different more than 0.1, so we will apply the GridSearch CV with the number of estimator of 50 and other params to find the best model with R2 scores"
   ]
  },
  {
   "cell_type": "markdown",
   "metadata": {},
   "source": [
    "**Apply Gridsearch CV with the best number of estimator of 50 and \"R2\" scoring**"
   ]
  },
  {
   "cell_type": "code",
   "execution_count": 32,
   "metadata": {},
   "outputs": [],
   "source": [
    "ET_list = [50]\n",
    "MD_list = [2, 5, 10, 15, 20, 30]\n",
    "MS_list = [10, 30, 50, 100]\n",
    "params = {'n_estimators': ET_list,\n",
    "          'min_samples_split': MS_list,\n",
    "         'max_depth': MD_list, 'random_state': [42]}\n",
    "\n",
    "rf = RandomForestRegressor()\n",
    "grid = GridSearchCV(estimator=rf, param_grid=params, verbose=1, cv=5,scoring=\"r2\", n_jobs=-1)"
   ]
  },
  {
   "cell_type": "code",
   "execution_count": 33,
   "metadata": {},
   "outputs": [
    {
     "name": "stdout",
     "output_type": "stream",
     "text": [
      "Fitting 5 folds for each of 24 candidates, totalling 120 fits\n"
     ]
    },
    {
     "name": "stderr",
     "output_type": "stream",
     "text": [
      "[Parallel(n_jobs=-1)]: Using backend LokyBackend with 4 concurrent workers.\n",
      "[Parallel(n_jobs=-1)]: Done  42 tasks      | elapsed:    6.4s\n",
      "[Parallel(n_jobs=-1)]: Done 120 out of 120 | elapsed:   25.5s finished\n"
     ]
    },
    {
     "data": {
      "text/plain": [
       "GridSearchCV(cv=5, estimator=RandomForestRegressor(), n_jobs=-1,\n",
       "             param_grid={'max_depth': [2, 5, 10, 15, 20, 30],\n",
       "                         'min_samples_split': [10, 30, 50, 100],\n",
       "                         'n_estimators': [50], 'random_state': [42]},\n",
       "             scoring='r2', verbose=1)"
      ]
     },
     "execution_count": 33,
     "metadata": {},
     "output_type": "execute_result"
    }
   ],
   "source": [
    "grid.fit(X_train, y_train)"
   ]
  },
  {
   "cell_type": "code",
   "execution_count": 34,
   "metadata": {},
   "outputs": [
    {
     "data": {
      "text/plain": [
       "RandomForestRegressor(max_depth=30, min_samples_split=50, n_estimators=50,\n",
       "                      random_state=42)"
      ]
     },
     "execution_count": 34,
     "metadata": {},
     "output_type": "execute_result"
    }
   ],
   "source": [
    "grid.best_estimator_"
   ]
  },
  {
   "cell_type": "code",
   "execution_count": 35,
   "metadata": {},
   "outputs": [
    {
     "data": {
      "text/plain": [
       "RandomForestRegressor(max_depth=30, min_samples_split=50, n_estimators=50,\n",
       "                      random_state=42)"
      ]
     },
     "execution_count": 35,
     "metadata": {},
     "output_type": "execute_result"
    }
   ],
   "source": [
    "gs_reg = RandomForestRegressor(max_depth=30, min_samples_split=50, n_estimators=50,\n",
    "                      random_state=42)\n",
    "gs_reg.fit(X_train, y_train)"
   ]
  },
  {
   "cell_type": "code",
   "execution_count": 36,
   "metadata": {},
   "outputs": [
    {
     "name": "stdout",
     "output_type": "stream",
     "text": [
      "R2 Score (Train):  0.8286027329102589\n",
      "R2 Score (Validation):  0.7422609535629301\n",
      "RMSE (Train):  0.9149132269777397\n",
      "RMSE (Validation):  1.1601407705360824\n"
     ]
    }
   ],
   "source": [
    "# Your code\n",
    "#Compute R2\n",
    "pred_train = gs_reg.predict(X_train)\n",
    "pred_val = gs_reg.predict(X_val)\n",
    "\n",
    "r2_train = metrics.r2_score(y_train, pred_train)\n",
    "r2_val = metrics.r2_score(y_val, pred_val)\n",
    "print(\"R2 Score (Train): \", r2_train )\n",
    "print(\"R2 Score (Validation): \",r2_val)\n",
    "#Compute RMSE\n",
    "rmse_train = sqrt(metrics.mean_squared_error(y_train, pred_train))\n",
    "rmse_val = sqrt(metrics.mean_squared_error(y_val, pred_val))\n",
    "\n",
    "print(\"RMSE (Train): \", rmse_train)\n",
    "print(\"RMSE (Validation): \",rmse_val)"
   ]
  },
  {
   "cell_type": "markdown",
   "metadata": {},
   "source": [
    "**The new model is less overfitting than the initial model**"
   ]
  },
  {
   "cell_type": "markdown",
   "metadata": {},
   "source": [
    "- The overfitting problem has less effect on this new model as R2 scores and RMSE of train and validation sets are closer than the initial model\n",
    "- The R2 Score (Train) is 82.8% and R2 Score (Validation) is 74.2%.\n",
    "- So, the new model is less overfitting, its R2 scores for train is only 8.6% higher than that of the validation, comparing to the initial model with 22% differences in R2."
   ]
  },
  {
   "cell_type": "markdown",
   "metadata": {},
   "source": [
    "## Q4 [10]"
   ]
  },
  {
   "cell_type": "markdown",
   "metadata": {},
   "source": [
    "- Apply Support Vector Regression. Predict CO emission using other variables.\n",
    "    - What is the model $R^2$?\n",
    "    - What is the $R^2$ on validation data?\n",
    "    - What is the RMSE on training data?\n",
    "    - What is the RMSE on validation data?\n",
    "    \n",
    "- Apply the process above using **linear kernel SVR**, **polynomial kernel SVR**, and **RBF kernel SVR**.\n",
    "\n",
    "- Take RBF Kernel SVM and perform some hyperparameter tuning. See if you can increase the $R^2$ score.\n",
    "    - During this process this make sure it doesn't overfit the data. "
   ]
  },
  {
   "cell_type": "code",
   "execution_count": 37,
   "metadata": {},
   "outputs": [],
   "source": [
    "from sklearn.svm import SVR"
   ]
  },
  {
   "cell_type": "markdown",
   "metadata": {},
   "source": [
    "### 4.1 Linear SVR Regressor"
   ]
  },
  {
   "cell_type": "code",
   "execution_count": 38,
   "metadata": {},
   "outputs": [],
   "source": [
    "reg = SVR(kernel='linear')"
   ]
  },
  {
   "cell_type": "code",
   "execution_count": 39,
   "metadata": {},
   "outputs": [
    {
     "data": {
      "text/plain": [
       "SVR(kernel='linear')"
      ]
     },
     "execution_count": 39,
     "metadata": {},
     "output_type": "execute_result"
    }
   ],
   "source": [
    "# Your code\n",
    "reg.fit(X_train, y_train)"
   ]
  },
  {
   "cell_type": "code",
   "execution_count": 40,
   "metadata": {},
   "outputs": [
    {
     "name": "stdout",
     "output_type": "stream",
     "text": [
      "R2 Score (Model):  0.6142889670063518\n",
      "R2 Score (Validation):  0.5923266225681006\n",
      "RMSE (Train):  1.3724893738036412\n",
      "RMSE (Validation):  1.4590721109546434\n"
     ]
    }
   ],
   "source": [
    "# Your code\n",
    "#Compute R2\n",
    "pred_train = reg.predict(X_train)\n",
    "pred_val = reg.predict(X_val)\n",
    "\n",
    "r2_train = metrics.r2_score(y_train, pred_train)\n",
    "r2_val = metrics.r2_score(y_val, pred_val)\n",
    "print(\"R2 Score (Model): \", r2_train )\n",
    "print(\"R2 Score (Validation): \",r2_val)\n",
    "#Compute RMSE\n",
    "rmse_train = sqrt(metrics.mean_squared_error(y_train, pred_train))\n",
    "rmse_val = sqrt(metrics.mean_squared_error(y_val, pred_val))\n",
    "\n",
    "print(\"RMSE (Train): \", rmse_train)\n",
    "print(\"RMSE (Validation): \",rmse_val)"
   ]
  },
  {
   "cell_type": "markdown",
   "metadata": {},
   "source": [
    "- The R2 Score (Train) is 61.4% and R2 Score (Validation) is 59.2%\n",
    "- The training RMSE is 1.37 close to that of validation set 0f 1.45.\n",
    "- R2 score for train and validation sets have difference only 0.02  so the model is not overfitting."
   ]
  },
  {
   "cell_type": "markdown",
   "metadata": {},
   "source": [
    "### 4.2 Polynomial Kernel SVR"
   ]
  },
  {
   "cell_type": "code",
   "execution_count": 41,
   "metadata": {},
   "outputs": [],
   "source": [
    "from sklearn.svm import SVR"
   ]
  },
  {
   "cell_type": "code",
   "execution_count": 42,
   "metadata": {},
   "outputs": [],
   "source": [
    "reg = SVR(kernel='poly')"
   ]
  },
  {
   "cell_type": "code",
   "execution_count": 43,
   "metadata": {},
   "outputs": [
    {
     "data": {
      "text/plain": [
       "SVR(kernel='poly')"
      ]
     },
     "execution_count": 43,
     "metadata": {},
     "output_type": "execute_result"
    }
   ],
   "source": [
    "# Your code\n",
    "reg.fit(X_train, y_train)"
   ]
  },
  {
   "cell_type": "code",
   "execution_count": 44,
   "metadata": {},
   "outputs": [
    {
     "name": "stdout",
     "output_type": "stream",
     "text": [
      "R2 Score (Model):  0.7220653248687383\n",
      "R2 Score (Validation):  0.6988221760466327\n",
      "RMSE (Train):  1.165062774735266\n",
      "RMSE (Validation):  1.2540997354186676\n"
     ]
    }
   ],
   "source": [
    "# Your code\n",
    "#Compute R2\n",
    "pred_train = reg.predict(X_train)\n",
    "pred_val = reg.predict(X_val)\n",
    "\n",
    "r2_train = metrics.r2_score(y_train, pred_train)\n",
    "r2_val = metrics.r2_score(y_val, pred_val)\n",
    "print(\"R2 Score (Model): \", r2_train )\n",
    "print(\"R2 Score (Validation): \",r2_val)\n",
    "#Compute RMSE\n",
    "rmse_train = sqrt(metrics.mean_squared_error(y_train, pred_train))\n",
    "rmse_val = sqrt(metrics.mean_squared_error(y_val, pred_val))\n",
    "\n",
    "print(\"RMSE (Train): \", rmse_train)\n",
    "print(\"RMSE (Validation): \",rmse_val)"
   ]
  },
  {
   "cell_type": "markdown",
   "metadata": {},
   "source": [
    "- The R2 Score (Train) is 72.2% and R2 Score (Validation) is 69.8%.\n",
    "- The training RMSE is 1.16 close to that of validation set 0f 1.25.\n",
    "- R2 score for train and validation sets have difference only 0.024  so the model is not overfitting."
   ]
  },
  {
   "cell_type": "markdown",
   "metadata": {},
   "source": [
    "### 4.3 RBF Kernel SVR"
   ]
  },
  {
   "cell_type": "code",
   "execution_count": 45,
   "metadata": {},
   "outputs": [],
   "source": [
    "from sklearn.svm import SVR"
   ]
  },
  {
   "cell_type": "code",
   "execution_count": 46,
   "metadata": {},
   "outputs": [],
   "source": [
    "reg = SVR(kernel='rbf')"
   ]
  },
  {
   "cell_type": "code",
   "execution_count": 47,
   "metadata": {},
   "outputs": [
    {
     "data": {
      "text/plain": [
       "SVR()"
      ]
     },
     "execution_count": 47,
     "metadata": {},
     "output_type": "execute_result"
    }
   ],
   "source": [
    "# Your code\n",
    "reg.fit(X_train, y_train)"
   ]
  },
  {
   "cell_type": "code",
   "execution_count": 48,
   "metadata": {},
   "outputs": [
    {
     "name": "stdout",
     "output_type": "stream",
     "text": [
      "R2 Score (Model):  0.7537814347693682\n",
      "R2 Score (Validation):  0.7239434577070454\n",
      "RMSE (Train):  1.0965750440937958\n",
      "RMSE (Validation):  1.2006587843948826\n"
     ]
    }
   ],
   "source": [
    "# Your code\n",
    "#Compute R2\n",
    "pred_train = reg.predict(X_train)\n",
    "pred_val = reg.predict(X_val)\n",
    "\n",
    "r2_train = metrics.r2_score(y_train, pred_train)\n",
    "r2_val = metrics.r2_score(y_val, pred_val)\n",
    "print(\"R2 Score (Model): \", r2_train )\n",
    "print(\"R2 Score (Validation): \",r2_val)\n",
    "#Compute RMSE\n",
    "rmse_train = sqrt(metrics.mean_squared_error(y_train, pred_train))\n",
    "rmse_val = sqrt(metrics.mean_squared_error(y_val, pred_val))\n",
    "\n",
    "print(\"RMSE (Train): \", rmse_train)\n",
    "print(\"RMSE (Validation): \",rmse_val)"
   ]
  },
  {
   "cell_type": "markdown",
   "metadata": {},
   "source": [
    "- The R2 Score (Train) is 75.3% and R2 Score (Validation) is 72.3%.\n",
    "- The training RMSE is 1.097 close to that of validation set 0f 1.20.\n",
    "- R2 score for train and validation sets have difference only 0.03  so the model is not overfitting."
   ]
  },
  {
   "cell_type": "markdown",
   "metadata": {},
   "source": [
    "All 3 SVM models above still have a moderate R2 score so we will improve the R2 by tuning some parameters in the next section."
   ]
  },
  {
   "cell_type": "markdown",
   "metadata": {},
   "source": [
    "### 4.4 Hyperparemeter Tuning for RBF kernel SVR"
   ]
  },
  {
   "cell_type": "markdown",
   "metadata": {},
   "source": [
    "**1. Find the best C value (higher C can lead to overfitting)**"
   ]
  },
  {
   "cell_type": "code",
   "execution_count": 49,
   "metadata": {},
   "outputs": [],
   "source": [
    "C_list = [0.00001, 0.0001, 0.001, 0.01, 0.1, 1, 10]\n",
    "r2_train = []\n",
    "r2_valid = []\n",
    "for c in C_list:\n",
    "    reg = SVR(kernel='rbf', C = c)\n",
    "    reg.fit(X_train, y_train)\n",
    "    #Train\n",
    "    pred_train = reg.predict(X_train)\n",
    "    r2_train.append(metrics.r2_score(y_train, pred_train))\n",
    "    #Valid\n",
    "    pred_val = reg.predict(X_val)\n",
    "    r2_valid.append(metrics.r2_score(y_val, pred_val))"
   ]
  },
  {
   "cell_type": "code",
   "execution_count": 50,
   "metadata": {},
   "outputs": [
    {
     "name": "stdout",
     "output_type": "stream",
     "text": [
      "R2 Train:  [-0.07429926421234812, -0.04854989869588966, 0.1520147338187584, 0.4890150811710998, 0.7067904949485582, 0.7537814347693682, 0.7686442661298736]\n",
      "R2 Validation:  [-0.07631008155982277, -0.052213692162329295, 0.13622344290277366, 0.4544618652386422, 0.6675704325527981, 0.7239434577070454, 0.7364535878704698]\n"
     ]
    }
   ],
   "source": [
    "print(\"R2 Train: \", r2_train)\n",
    "print(\"R2 Validation: \", r2_valid)"
   ]
  },
  {
   "cell_type": "code",
   "execution_count": 51,
   "metadata": {},
   "outputs": [
    {
     "data": {
      "image/png": "[encoded data removed]",
      "text/plain": [
       "<Figure size 720x360 with 1 Axes>"
      ]
     },
     "metadata": {
      "needs_background": "light"
     },
     "output_type": "display_data"
    }
   ],
   "source": [
    "# Code here Plot R2 Curve\n",
    "plt.figure(figsize=(10,5))\n",
    "plt.title(\"The R2 Curve of RBF Kernel\")\n",
    "plt.plot(r2_train, 'bo--', label = 'train')\n",
    "plt.plot(r2_valid,'go--', label = 'valid')\n",
    "plt.xticks(np.arange(len(C_list)), C_list, rotation = 45)\n",
    "plt.xlabel('C Value')\n",
    "plt.ylabel('R2 Scores')\n",
    "plt.legend()\n",
    "plt.show()"
   ]
  },
  {
   "cell_type": "markdown",
   "metadata": {},
   "source": [
    "- The best C value is 10, the model is still not overfitting as the gap is less only 3%."
   ]
  },
  {
   "cell_type": "markdown",
   "metadata": {},
   "source": [
    "**2. Find the best gamma value with previous best c**"
   ]
  },
  {
   "cell_type": "code",
   "execution_count": 52,
   "metadata": {},
   "outputs": [],
   "source": [
    "G_list = [0.00001, 0.0001, 0.001, 0.01, 0.1, 1, 10 ,100, 1000]\n",
    "r2_train = []\n",
    "r2_valid = []\n",
    "for g in G_list:\n",
    "    reg = SVR(kernel='rbf', C = 10, gamma =g)\n",
    "    reg.fit(X_train, y_train)\n",
    "    #Train\n",
    "    pred_train = reg.predict(X_train)\n",
    "    r2_train.append(metrics.r2_score(y_train, pred_train))\n",
    "    #Valid\n",
    "    pred_val = reg.predict(X_val)\n",
    "    r2_valid.append(metrics.r2_score(y_val, pred_val))"
   ]
  },
  {
   "cell_type": "code",
   "execution_count": 53,
   "metadata": {},
   "outputs": [
    {
     "name": "stdout",
     "output_type": "stream",
     "text": [
      "R2 Train:  [0.43601790925528017, 0.5852980909130687, 0.6894667506495831, 0.7400007816027221, 0.7667524817588922, 0.8258891350468409, 0.9196797631130419, 0.9485181640742069, 0.9483628099271296]\n",
      "R2 Validation:  [0.40890822039547636, 0.5607232486285189, 0.6699767487530619, 0.7429610685587464, 0.738793267251711, 0.6646935428721668, 0.475676238483579, 0.05133327585443059, 0.0007338830954578546]\n"
     ]
    }
   ],
   "source": [
    "print(\"R2 Train: \", r2_train)\n",
    "print(\"R2 Validation: \", r2_valid)"
   ]
  },
  {
   "cell_type": "code",
   "execution_count": 54,
   "metadata": {},
   "outputs": [
    {
     "data": {
      "image/png": "[encoded data removed]",
      "text/plain": [
       "<Figure size 720x360 with 1 Axes>"
      ]
     },
     "metadata": {
      "needs_background": "light"
     },
     "output_type": "display_data"
    }
   ],
   "source": [
    "# Code here Plot R2 Curve\n",
    "plt.figure(figsize=(10,5))\n",
    "plt.title(\"The R2 Curve of RBF Kernel\")\n",
    "plt.plot(r2_train, 'bo--', label = 'train')\n",
    "plt.plot(r2_valid,'go--', label = 'valid')\n",
    "plt.xticks(np.arange(len(G_list)), G_list, rotation = 45)\n",
    "plt.xlabel('Gamma Value')\n",
    "plt.ylabel('R2 Scores')\n",
    "plt.legend()\n",
    "plt.show()"
   ]
  },
  {
   "cell_type": "markdown",
   "metadata": {},
   "source": [
    "- The best Gamma value is 0.01, the model starts overfitting for the gamma value > 0.01.\n",
    "- The best validation R2 at gamma of 0.01 is 74% which slightly improve from the initial model (72%)\n",
    "- So, we will apply the Gridsearch CV to find the best params."
   ]
  },
  {
   "cell_type": "markdown",
   "metadata": {},
   "source": [
    "**3. GridSearchCV**"
   ]
  },
  {
   "cell_type": "code",
   "execution_count": 55,
   "metadata": {},
   "outputs": [],
   "source": [
    "reg = SVR(kernel='rbf')\n",
    "value = [0.00001, 0.0001, 0.001, 0.01, 0.1, 1, 10 ,100]\n",
    "params = {'C': value,\n",
    "          'gamma': value}\n",
    "\n",
    "grid = GridSearchCV(estimator=reg, param_grid=params, verbose=1, cv=5,scoring=\"r2\", n_jobs=-1)"
   ]
  },
  {
   "cell_type": "code",
   "execution_count": 56,
   "metadata": {},
   "outputs": [
    {
     "name": "stdout",
     "output_type": "stream",
     "text": [
      "Fitting 5 folds for each of 64 candidates, totalling 320 fits\n"
     ]
    },
    {
     "name": "stderr",
     "output_type": "stream",
     "text": [
      "[Parallel(n_jobs=-1)]: Using backend LokyBackend with 4 concurrent workers.\n",
      "[Parallel(n_jobs=-1)]: Done  42 tasks      | elapsed:    9.3s\n",
      "[Parallel(n_jobs=-1)]: Done 192 tasks      | elapsed:   39.3s\n",
      "[Parallel(n_jobs=-1)]: Done 320 out of 320 | elapsed:  1.8min finished\n"
     ]
    },
    {
     "data": {
      "text/plain": [
       "SVR(C=10, gamma=0.1)"
      ]
     },
     "execution_count": 56,
     "metadata": {},
     "output_type": "execute_result"
    }
   ],
   "source": [
    "grid.fit(X_train, y_train)\n",
    "grid.best_estimator_"
   ]
  },
  {
   "cell_type": "code",
   "execution_count": 57,
   "metadata": {},
   "outputs": [
    {
     "data": {
      "text/plain": [
       "SVR(C=10, gamma=0.1)"
      ]
     },
     "execution_count": 57,
     "metadata": {},
     "output_type": "execute_result"
    }
   ],
   "source": [
    "gs_reg = SVR(kernel='rbf', C=10, gamma=0.1)\n",
    "gs_reg.fit(X_train, y_train)"
   ]
  },
  {
   "cell_type": "code",
   "execution_count": 58,
   "metadata": {},
   "outputs": [
    {
     "name": "stdout",
     "output_type": "stream",
     "text": [
      "R2 Score (Train):  0.7667524817588922\n",
      "R2 Score (Validation):  0.738793267251711\n",
      "RMSE (Train):  1.067299916893449\n",
      "RMSE (Validation):  1.1679191086768477\n"
     ]
    }
   ],
   "source": [
    "# Your code\n",
    "#Compute R2\n",
    "pred_train = gs_reg.predict(X_train)\n",
    "pred_val = gs_reg.predict(X_val)\n",
    "\n",
    "r2_train = metrics.r2_score(y_train, pred_train)\n",
    "r2_val = metrics.r2_score(y_val, pred_val)\n",
    "print(\"R2 Score (Train): \", r2_train )\n",
    "print(\"R2 Score (Validation): \",r2_val)\n",
    "#Compute RMSE\n",
    "rmse_train = sqrt(metrics.mean_squared_error(y_train, pred_train))\n",
    "rmse_val = sqrt(metrics.mean_squared_error(y_val, pred_val))\n",
    "\n",
    "print(\"RMSE (Train): \", rmse_train)\n",
    "print(\"RMSE (Validation): \",rmse_val)"
   ]
  },
  {
   "cell_type": "markdown",
   "metadata": {},
   "source": [
    "**The new model is less overfitting and improves R2, RMSE scores**"
   ]
  },
  {
   "cell_type": "markdown",
   "metadata": {},
   "source": [
    "- The new model has R2 score higher than the initial model for both train and validation sets\n",
    "- The R2 Score (Train) is 76.6% and R2 Score (Validation) is 73.8%.\n",
    "- So, the new model is less overfitting, its R2 scores for train is only 2.8% higher than that of the validation.\n",
    "- The RMSE of the new model is also lower than the initial model."
   ]
  },
  {
   "cell_type": "markdown",
   "metadata": {},
   "source": [
    "## Q5 [10]"
   ]
  },
  {
   "cell_type": "markdown",
   "metadata": {},
   "source": [
    "- Apply PCA and transform the data. \n",
    "- Take only the first 4 principal components.\n",
    "- Use the PCA transformed data to perform regression.\n",
    "- Apply Linear Regression, Random Forest Regression, and RBF Kernel Support Vector Regression.\n",
    "For each model:\n",
    "    - What is the model $R^2$?\n",
    "    - What is the $R^2$ on validation data?\n",
    "    - What is the RMSE on training data?\n",
    "    - What is the RMSE on validation data?\n",
    "    \n",
    "- Compare these models with their results obtained before. For example: Compare SVR with SVR from before. Use the best hyperparameters obtained from the experiments before. Any change in performance? Please explain. \n",
    "- Perform hyperparameter tuning of SVR using PCA transformed data. Any improvement?\n"
   ]
  },
  {
   "cell_type": "code",
   "execution_count": 59,
   "metadata": {},
   "outputs": [],
   "source": [
    "from sklearn.decomposition import PCA"
   ]
  },
  {
   "cell_type": "code",
   "execution_count": 60,
   "metadata": {},
   "outputs": [],
   "source": [
    "pca = PCA(n_components=None)\n",
    "pca.fit(X_train)\n",
    "X_train_pca = pca.transform(X_train)\n",
    "X_val_pca = pca.transform(X_val)"
   ]
  },
  {
   "cell_type": "code",
   "execution_count": 61,
   "metadata": {},
   "outputs": [],
   "source": [
    "X_train_pca = X_train_pca[:, 0:4]\n",
    "X_val_pca = X_val_pca[:, 0:4]"
   ]
  },
  {
   "cell_type": "markdown",
   "metadata": {},
   "source": [
    "### 5.1 Linear Regression"
   ]
  },
  {
   "cell_type": "code",
   "execution_count": 62,
   "metadata": {},
   "outputs": [
    {
     "data": {
      "text/plain": [
       "LinearRegression()"
      ]
     },
     "execution_count": 62,
     "metadata": {},
     "output_type": "execute_result"
    }
   ],
   "source": [
    "# the same params from Q2 \n",
    "reg = LinearRegression()\n",
    "reg.fit(X_train_pca, y_train)"
   ]
  },
  {
   "cell_type": "code",
   "execution_count": 63,
   "metadata": {},
   "outputs": [
    {
     "name": "stdout",
     "output_type": "stream",
     "text": [
      "R2 Score (Model):  0.6128523714371698\n",
      "R2 Score (Validation):  0.5925986135843695\n",
      "RMSE (Train):  1.3750429430125601\n",
      "RMSE (Validation):  1.4585852987864283\n"
     ]
    }
   ],
   "source": [
    "# Your code\n",
    "pred_train = reg.predict(X_train_pca)\n",
    "pred_val = reg.predict(X_val_pca)\n",
    "\n",
    "#Compute R2\n",
    "r2_train = metrics.r2_score(y_train, pred_train)\n",
    "r2_val = metrics.r2_score(y_val, pred_val)\n",
    "print(\"R2 Score (Model): \", r2_train )\n",
    "print(\"R2 Score (Validation): \",r2_val)\n",
    "\n",
    "#Compute RMSE\n",
    "rmse_train = sqrt(metrics.mean_squared_error(y_train, pred_train))\n",
    "rmse_val = sqrt(metrics.mean_squared_error(y_val, pred_val))\n",
    "print(\"RMSE (Train): \", rmse_train)\n",
    "print(\"RMSE (Validation): \",rmse_val)"
   ]
  },
  {
   "cell_type": "markdown",
   "metadata": {},
   "source": [
    "- The R2 Score (Train) is 61.2% and R2 Score (Validation) is 59.2%\n",
    "- The training RMSE is 1.37  close to that of validation set 0f 1.45.\n",
    "- The R2 of 4 PCAs model is 3% lower than the model in Q2 with all features.\n",
    "- The RMSE of 4 PCAs model is also higher than the model in Q2.\n",
    "- This implies the trade-off between the dimension reduction and information loss. \n",
    "- However, the R2 of previous model in Q2 is 64% (Train) and 62% (valid) which are slightly higher than R2 of 4 PCAs model, so we loss some info when reducing the dimesion of features as PCAs focus on maximimizing the variance."
   ]
  },
  {
   "cell_type": "markdown",
   "metadata": {},
   "source": [
    "### 5.2 Random Forest Regressor "
   ]
  },
  {
   "cell_type": "code",
   "execution_count": 64,
   "metadata": {},
   "outputs": [
    {
     "data": {
      "text/plain": [
       "RandomForestRegressor(max_depth=30, min_samples_split=50, n_estimators=50,\n",
       "                      random_state=42)"
      ]
     },
     "execution_count": 64,
     "metadata": {},
     "output_type": "execute_result"
    }
   ],
   "source": [
    "# the same params from Q3\n",
    "reg = RandomForestRegressor(max_depth=30, min_samples_split=50, n_estimators=50,\n",
    "                      random_state=42)\n",
    "reg.fit(X_train_pca, y_train)"
   ]
  },
  {
   "cell_type": "code",
   "execution_count": 65,
   "metadata": {},
   "outputs": [
    {
     "name": "stdout",
     "output_type": "stream",
     "text": [
      "R2 Score (Model):  0.8095366963406843\n",
      "R2 Score (Validation):  0.6800161750797766\n",
      "RMSE (Train):  0.9644586585367511\n",
      "RMSE (Validation):  1.2926608427474444\n"
     ]
    }
   ],
   "source": [
    "# Your code\n",
    "pred_train = reg.predict(X_train_pca)\n",
    "pred_val = reg.predict(X_val_pca)\n",
    "\n",
    "#Compute R2\n",
    "r2_train = metrics.r2_score(y_train, pred_train)\n",
    "r2_val = metrics.r2_score(y_val, pred_val)\n",
    "print(\"R2 Score (Model): \", r2_train )\n",
    "print(\"R2 Score (Validation): \",r2_val)\n",
    "\n",
    "#Compute RMSE\n",
    "rmse_train = sqrt(metrics.mean_squared_error(y_train, pred_train))\n",
    "rmse_val = sqrt(metrics.mean_squared_error(y_val, pred_val))\n",
    "print(\"RMSE (Train): \", rmse_train)\n",
    "print(\"RMSE (Validation): \",rmse_val)"
   ]
  },
  {
   "cell_type": "markdown",
   "metadata": {},
   "source": [
    "- The new R2 Score (Train) is 80.9% and R2 Score (Validation) is 68%\n",
    "- The R2 of previous model in Q3 is 82% (Train) and 74% (valid) which are higher than R2 of PCA model.\n",
    "- The training RMSE of the PCAs model is 0.96 and RMSE of validation set is 1.29.\n",
    "- The Random Forest Regressor model with 4 PCAs performs worse than the model in Q3 fitted with all features.\n",
    "- This implies that we miss some info when reducing the dimesion of features as PCAs focus on maximimizing the variance.\n",
    "- The new PCAs model seems more overfitting as the gap of R2 for train and valid sets is 13%."
   ]
  },
  {
   "cell_type": "markdown",
   "metadata": {},
   "source": [
    "### 5.3 RBF Kernel with SVR"
   ]
  },
  {
   "cell_type": "code",
   "execution_count": 66,
   "metadata": {},
   "outputs": [
    {
     "data": {
      "text/plain": [
       "SVR(C=10, gamma=0.1)"
      ]
     },
     "execution_count": 66,
     "metadata": {},
     "output_type": "execute_result"
    }
   ],
   "source": [
    "#the same params from Q4\n",
    "reg = SVR(kernel='rbf', C=10, gamma=0.1)\n",
    "reg.fit(X_train_pca, y_train)"
   ]
  },
  {
   "cell_type": "code",
   "execution_count": 67,
   "metadata": {},
   "outputs": [
    {
     "name": "stdout",
     "output_type": "stream",
     "text": [
      "R2 Score (Train):  0.7456823389845262\n",
      "R2 Score (Validation):  0.7051962687571955\n",
      "RMSE (Train):  1.1144644514946718\n",
      "RMSE (Validation):  1.24075795590869\n"
     ]
    }
   ],
   "source": [
    "# Your code\n",
    "pred_train = reg.predict(X_train_pca)\n",
    "pred_val = reg.predict(X_val_pca)\n",
    "\n",
    "#Compute R2\n",
    "r2_train = metrics.r2_score(y_train, pred_train)\n",
    "r2_val = metrics.r2_score(y_val, pred_val)\n",
    "print(\"R2 Score (Train): \", r2_train )\n",
    "print(\"R2 Score (Validation): \",r2_val)\n",
    "\n",
    "#Compute RMSE\n",
    "rmse_train = sqrt(metrics.mean_squared_error(y_train, pred_train))\n",
    "rmse_val = sqrt(metrics.mean_squared_error(y_val, pred_val))\n",
    "print(\"RMSE (Train): \", rmse_train)\n",
    "print(\"RMSE (Validation): \",rmse_val)"
   ]
  },
  {
   "cell_type": "markdown",
   "metadata": {},
   "source": [
    "- The R2 Score (Train) is 74.5% and R2 Score (Validation) is 70.5%\n",
    "- The training RMSE is 1.11 close to that of validation set 0f 1.24.\n",
    "- The RBF Regressor model with 4 PCAs performs slighly worse than the model in Q4 with all features.\n",
    "- For example, the R2 of previous model in Q4 is 76% (Train) and 73% (valid) which are higher than R2 of PCA model.\n",
    "- The RMSE of the new PCAs model is also higher than the previous model.\n",
    "- The new PCAs model is not overfitting as the gap of R2 for train and valid sets is 4%.\n",
    "- Similarily to other PCA models, we loss some info when reducing dimension as PCAs focus on maximimizing the variance."
   ]
  },
  {
   "cell_type": "markdown",
   "metadata": {},
   "source": [
    "### 5.4 Comparison Summary"
   ]
  },
  {
   "cell_type": "markdown",
   "metadata": {},
   "source": [
    "- Fitted the PCA model with the best parameters found in previous questions, all models with PCAs perform slighly worse than the innital model fitted with all features.\n",
    "- The PCAs focus on maximimizing the variance which implies the trade-off between the dimension reduction and some information loss. \n",
    "- Moreover, PCAs can capture only linear structure, which may not perform well if our input has non-linear structure.\n",
    "- Although we have some information loss, the models with 4 PCAs have R2 score of validation only about 3 % lower than the inital model. So, we still can preserve the main info when using the PCAs, and PCAs benefits in reducing the dimesion of features.\n",
    "- The models with PCA is still not overfitting as the difference of R2 scores for train and valid sets < 10%."
   ]
  },
  {
   "cell_type": "markdown",
   "metadata": {},
   "source": [
    "### 5.5 Parameter tuning of RBF Kernel SVR using the PCA "
   ]
  },
  {
   "cell_type": "markdown",
   "metadata": {},
   "source": [
    "#### 1. Find the best C value"
   ]
  },
  {
   "cell_type": "code",
   "execution_count": 68,
   "metadata": {},
   "outputs": [],
   "source": [
    "# Your code\n",
    "C_list = [0.00001, 0.0001, 0.001, 0.01, 0.1, 1, 10]\n",
    "r2_train = []\n",
    "r2_valid = []\n",
    "for c in C_list:\n",
    "    reg = SVR(kernel='rbf', C = c)\n",
    "    reg.fit(X_train_pca, y_train)\n",
    "    #Train\n",
    "    pred_train = reg.predict(X_train_pca)\n",
    "    r2_train.append(metrics.r2_score(y_train, pred_train))\n",
    "    #Valid\n",
    "    pred_val = reg.predict(X_val_pca)\n",
    "    r2_valid.append(metrics.r2_score(y_val, pred_val))"
   ]
  },
  {
   "cell_type": "code",
   "execution_count": 69,
   "metadata": {},
   "outputs": [
    {
     "name": "stdout",
     "output_type": "stream",
     "text": [
      "R2 Train:  [-0.07416333111988549, -0.04674081267393282, 0.16284636039777012, 0.49820024078152736, 0.6830707770342923, 0.7372447022133592, 0.7475467282450216]\n",
      "R2 Validation:  [-0.07618964747773949, -0.05056515233641257, 0.14588867304417086, 0.4610728284531266, 0.637624770149366, 0.6941874852265475, 0.7053312008727297]\n"
     ]
    }
   ],
   "source": [
    "print(\"R2 Train: \", r2_train)\n",
    "print(\"R2 Validation: \", r2_valid)"
   ]
  },
  {
   "cell_type": "code",
   "execution_count": 70,
   "metadata": {},
   "outputs": [
    {
     "data": {
      "image/png": "[encoded data removed]",
      "text/plain": [
       "<Figure size 720x360 with 1 Axes>"
      ]
     },
     "metadata": {
      "needs_background": "light"
     },
     "output_type": "display_data"
    }
   ],
   "source": [
    "# Code here Plot R2 Curve\n",
    "plt.figure(figsize=(10,5))\n",
    "plt.title(\"The R2 Curve of RBF Kernel (4 PCAs)\")\n",
    "plt.plot(r2_train, 'bo--', label = 'train')\n",
    "plt.plot(r2_valid,'go--', label = 'valid')\n",
    "plt.xticks(np.arange(len(C_list)), C_list, rotation = 45)\n",
    "plt.xlabel('C Value')\n",
    "plt.ylabel('R2 Scores')\n",
    "plt.legend()\n",
    "plt.show()"
   ]
  },
  {
   "cell_type": "markdown",
   "metadata": {},
   "source": [
    "- The best C value is 10, the model is still not overfitting as the gap is 4.2%."
   ]
  },
  {
   "cell_type": "markdown",
   "metadata": {},
   "source": [
    "#### 2. Find the best gamma value with previous best c"
   ]
  },
  {
   "cell_type": "code",
   "execution_count": 71,
   "metadata": {},
   "outputs": [],
   "source": [
    "G_list = [0.00001, 0.0001, 0.001, 0.01, 0.1, 1, 10 ,100]\n",
    "r2_train = []\n",
    "r2_valid = []\n",
    "for g in G_list:\n",
    "    reg = SVR(kernel='rbf', C = 10, gamma =g)\n",
    "    reg.fit(X_train_pca, y_train)\n",
    "    #Train\n",
    "    pred_train = reg.predict(X_train_pca)\n",
    "    r2_train.append(metrics.r2_score(y_train, pred_train))\n",
    "    #Valid\n",
    "    pred_val = reg.predict(X_val_pca)\n",
    "    r2_valid.append(metrics.r2_score(y_val, pred_val))"
   ]
  },
  {
   "cell_type": "code",
   "execution_count": 72,
   "metadata": {},
   "outputs": [
    {
     "name": "stdout",
     "output_type": "stream",
     "text": [
      "R2 Train:  [0.43443349844958246, 0.5645263552961397, 0.6665180906967635, 0.7241780117705088, 0.7456823389845262, 0.7883627649323393, 0.8759846362351826, 0.9443287699126373]\n",
      "R2 Validation:  [0.40741173185163027, 0.5395581394893099, 0.6416891830902647, 0.7089278277837101, 0.7051962687571955, 0.6537298631724862, 0.5540697225283089, 0.12399902030683674]\n"
     ]
    }
   ],
   "source": [
    "print(\"R2 Train: \", r2_train)\n",
    "print(\"R2 Validation: \", r2_valid)"
   ]
  },
  {
   "cell_type": "code",
   "execution_count": 73,
   "metadata": {},
   "outputs": [
    {
     "data": {
      "image/png": "[encoded data removed]",
      "text/plain": [
       "<Figure size 720x360 with 1 Axes>"
      ]
     },
     "metadata": {
      "needs_background": "light"
     },
     "output_type": "display_data"
    }
   ],
   "source": [
    "# Code here Plot R2 Curve\n",
    "plt.figure(figsize=(10,5))\n",
    "plt.title(\"The R2 Curve of RBF Kernel\")\n",
    "plt.plot(r2_train, 'bo--', label = 'train')\n",
    "plt.plot(r2_valid,'go--', label = 'valid')\n",
    "plt.xticks(np.arange(len(G_list)), G_list, rotation = 45)\n",
    "plt.xlabel('Gamma Value')\n",
    "plt.ylabel('R2 Scores')\n",
    "plt.legend()\n",
    "plt.show()"
   ]
  },
  {
   "cell_type": "markdown",
   "metadata": {},
   "source": [
    "- The best Gamma value is 0.01, the model starts overfitting for the gamma value > 0.01.\n",
    "- The best validation R2 at gamma of 0.01 is 70.8% which slightly improve from the initial model (70.5%)\n",
    "- So, we will apply the Gridsearch CV to find the best params."
   ]
  },
  {
   "cell_type": "markdown",
   "metadata": {},
   "source": [
    "#### 3. GridSearchCV"
   ]
  },
  {
   "cell_type": "code",
   "execution_count": 74,
   "metadata": {},
   "outputs": [],
   "source": [
    "reg = SVR(kernel='rbf')\n",
    "value = [0.00001, 0.0001, 0.001, 0.01, 0.1, 1, 10 ,100]\n",
    "params = {'C': value,\n",
    "          'gamma': value}\n",
    "\n",
    "grid = GridSearchCV(estimator=reg, param_grid=params, verbose=1, cv=5,scoring=\"r2\", n_jobs=-1)"
   ]
  },
  {
   "cell_type": "code",
   "execution_count": 75,
   "metadata": {},
   "outputs": [
    {
     "name": "stdout",
     "output_type": "stream",
     "text": [
      "Fitting 5 folds for each of 64 candidates, totalling 320 fits\n"
     ]
    },
    {
     "name": "stderr",
     "output_type": "stream",
     "text": [
      "[Parallel(n_jobs=-1)]: Using backend LokyBackend with 4 concurrent workers.\n",
      "[Parallel(n_jobs=-1)]: Done  42 tasks      | elapsed:    8.4s\n",
      "[Parallel(n_jobs=-1)]: Done 192 tasks      | elapsed:   35.7s\n",
      "[Parallel(n_jobs=-1)]: Done 320 out of 320 | elapsed:  1.7min finished\n"
     ]
    },
    {
     "data": {
      "text/plain": [
       "SVR(C=100, gamma=0.1)"
      ]
     },
     "execution_count": 75,
     "metadata": {},
     "output_type": "execute_result"
    }
   ],
   "source": [
    "grid.fit(X_train_pca, y_train)\n",
    "grid.best_estimator_"
   ]
  },
  {
   "cell_type": "code",
   "execution_count": 76,
   "metadata": {},
   "outputs": [
    {
     "data": {
      "text/plain": [
       "SVR(C=100, gamma=0.1)"
      ]
     },
     "execution_count": 76,
     "metadata": {},
     "output_type": "execute_result"
    }
   ],
   "source": [
    "gs_reg = SVR(kernel='rbf', C=100, gamma=0.1)\n",
    "gs_reg.fit(X_train_pca, y_train)"
   ]
  },
  {
   "cell_type": "code",
   "execution_count": 77,
   "metadata": {},
   "outputs": [
    {
     "name": "stdout",
     "output_type": "stream",
     "text": [
      "R2 Score (Train):  0.7553520551772321\n",
      "R2 Score (Validation):  0.6944717526144683\n",
      "RMSE (Train):  1.0930719399187148\n",
      "RMSE (Validation):  1.2631248086197129\n"
     ]
    }
   ],
   "source": [
    "# Your code\n",
    "#Compute R2\n",
    "pred_train = gs_reg.predict(X_train_pca)\n",
    "pred_val = gs_reg.predict(X_val_pca)\n",
    "\n",
    "r2_train = metrics.r2_score(y_train, pred_train)\n",
    "r2_val = metrics.r2_score(y_val, pred_val)\n",
    "print(\"R2 Score (Train): \", r2_train )\n",
    "print(\"R2 Score (Validation): \",r2_val)\n",
    "#Compute RMSE\n",
    "rmse_train = sqrt(metrics.mean_squared_error(y_train, pred_train))\n",
    "rmse_val = sqrt(metrics.mean_squared_error(y_val, pred_val))\n",
    "\n",
    "print(\"RMSE (Train): \", rmse_train)\n",
    "print(\"RMSE (Validation): \",rmse_val)"
   ]
  },
  {
   "cell_type": "markdown",
   "metadata": {},
   "source": [
    "- The R2 Score (Train) is 75.5% and R2 Score (Validation) is 69.4%\n",
    "- The training RMSE is 1.09 close to that of validation set 0f 1.26.\n",
    "- The RBF model with 4 PCAs from the gridsearch is slightly improved as R2 is higher and RMSE is lower.\n",
    "- The new PCAs model is more overfitting as the gap of R2 for train and valid sets is 6%."
   ]
  },
  {
   "cell_type": "markdown",
   "metadata": {},
   "source": [
    "## Q6 [10]"
   ]
  },
  {
   "cell_type": "markdown",
   "metadata": {},
   "source": [
    "- Apply Kernel PCA (KPCA) and transform the data. \n",
    "- Take the first 30 kernel principal components.(In KPCA you will (in many cases) have more dimensions than your original number of features!)\n",
    "- Use the KPCA transformed data to perform regression.\n",
    "- Now apply Linear Regression, Random Forest Regression, and RBF Kernel Support Vector Regression.\n",
    "For each model:\n",
    "    - What is the model $R^2$?\n",
    "    - What is the $R^2$ on validation data?\n",
    "    - What is the RMSE on training data?\n",
    "    - What is the RMSE on validation data?\n",
    "    \n",
    "- Compare these models with their results obtained before. For example: Compare SVR with SVR from before. Use the best hyperparameters obtained from the experiments before. \n",
    "    - Is there any change in performance when compared to models trained on original data? Please explain. \n",
    "    - Is there any change in performance when compared to models trained on PCA transformed data? Please explain. \n",
    "    \n",
    "- Perform hyperparameter tuning of SVR using KPCA transformed data. Any improvement?"
   ]
  },
  {
   "cell_type": "code",
   "execution_count": 78,
   "metadata": {},
   "outputs": [],
   "source": [
    "from sklearn.decomposition import KernelPCA"
   ]
  },
  {
   "cell_type": "code",
   "execution_count": 79,
   "metadata": {},
   "outputs": [],
   "source": [
    "kpca = KernelPCA(n_components=100, kernel='rbf', n_jobs=-1, remove_zero_eig=True)\n",
    "kpca.fit(X_train)\n",
    "X_train_kpca = kpca.transform(X_train)\n",
    "X_val_kpca = kpca.transform(X_val)"
   ]
  },
  {
   "cell_type": "code",
   "execution_count": 80,
   "metadata": {},
   "outputs": [],
   "source": [
    "X_train_kpca = X_train_kpca[:, 0:30]\n",
    "X_val_kpca = X_val_kpca[:, 0:30]"
   ]
  },
  {
   "cell_type": "markdown",
   "metadata": {},
   "source": [
    "### 6.1 Linear Regression"
   ]
  },
  {
   "cell_type": "code",
   "execution_count": 81,
   "metadata": {},
   "outputs": [
    {
     "data": {
      "text/plain": [
       "LinearRegression()"
      ]
     },
     "execution_count": 81,
     "metadata": {},
     "output_type": "execute_result"
    }
   ],
   "source": [
    "# the same params from Q2, Q5\n",
    "reg = LinearRegression()\n",
    "reg.fit(X_train_kpca, y_train)"
   ]
  },
  {
   "cell_type": "code",
   "execution_count": 82,
   "metadata": {},
   "outputs": [
    {
     "name": "stdout",
     "output_type": "stream",
     "text": [
      "R2 Score (Model):  0.7367356216476463\n",
      "R2 Score (Validation):  0.7067752703974688\n",
      "RMSE (Train):  1.1338980533990024\n",
      "RMSE (Validation):  1.2374306756590325\n"
     ]
    }
   ],
   "source": [
    "# Your code\n",
    "pred_train = reg.predict(X_train_kpca)\n",
    "pred_val = reg.predict(X_val_kpca)\n",
    "\n",
    "#Compute R2\n",
    "r2_train = metrics.r2_score(y_train, pred_train)\n",
    "r2_val = metrics.r2_score(y_val, pred_val)\n",
    "print(\"R2 Score (Model): \", r2_train )\n",
    "print(\"R2 Score (Validation): \",r2_val)\n",
    "\n",
    "#Compute RMSE\n",
    "rmse_train = sqrt(metrics.mean_squared_error(y_train, pred_train))\n",
    "rmse_val = sqrt(metrics.mean_squared_error(y_val, pred_val))\n",
    "print(\"RMSE (Train): \", rmse_train)\n",
    "print(\"RMSE (Validation): \",rmse_val)"
   ]
  },
  {
   "cell_type": "markdown",
   "metadata": {},
   "source": [
    "- **The all-Features model in Q2** - The R2 (Train) is 64.6% and R2 (Valid) is 62.9%, and The RMSE (Train) is 1.31 the RMSE (validation) is 1.39.\n",
    "- **The 4-PCAs model in Q5** - The R2 (Train) is 61.2% and R2 (Valid) is 59.2%, and The RMSE (Train) is 1.37 the RMSE (validation) is 1.45.\n",
    "- **The 30-KPCAs model** - The R2 (Train) is 73.6% and R2 (Valid) is 70.6%, and The RMSE (Train) is 1.13 the RMSE (validation) is 1.23."
   ]
  },
  {
   "cell_type": "markdown",
   "metadata": {},
   "source": [
    "- The Linear model with 30 KPCAs performs better than the model in Q2 with all features and the model in Q5 with 4 PCAS as the new model has the higher R2 and lower RMSE than than the model with all features and with 4 PCAs.\n",
    "- This is because that the KPCAs increases to the high dimensional feature space, thus it can capture the non-linear structure among features, which improves the performance of our model."
   ]
  },
  {
   "cell_type": "markdown",
   "metadata": {},
   "source": [
    "### 6.2 Random Forest Regressor"
   ]
  },
  {
   "cell_type": "code",
   "execution_count": 83,
   "metadata": {},
   "outputs": [
    {
     "data": {
      "text/plain": [
       "RandomForestRegressor(max_depth=30, min_samples_split=50, n_estimators=50,\n",
       "                      random_state=42)"
      ]
     },
     "execution_count": 83,
     "metadata": {},
     "output_type": "execute_result"
    }
   ],
   "source": [
    "# the same params from Q3, Q5\n",
    "reg = RandomForestRegressor(max_depth=30, min_samples_split=50, n_estimators=50,\n",
    "                      random_state=42)\n",
    "reg.fit(X_train_kpca, y_train)"
   ]
  },
  {
   "cell_type": "code",
   "execution_count": 84,
   "metadata": {},
   "outputs": [
    {
     "name": "stdout",
     "output_type": "stream",
     "text": [
      "R2 Score (Model):  0.8396468156145148\n",
      "R2 Score (Validation):  0.7204392407365302\n",
      "RMSE (Train):  0.8849459667532897\n",
      "RMSE (Validation):  1.2082552373095563\n"
     ]
    }
   ],
   "source": [
    "# Your code\n",
    "pred_train = reg.predict(X_train_kpca)\n",
    "pred_val = reg.predict(X_val_kpca)\n",
    "\n",
    "#Compute R2\n",
    "r2_train = metrics.r2_score(y_train, pred_train)\n",
    "r2_val = metrics.r2_score(y_val, pred_val)\n",
    "print(\"R2 Score (Model): \", r2_train )\n",
    "print(\"R2 Score (Validation): \",r2_val)\n",
    "\n",
    "#Compute RMSE\n",
    "rmse_train = sqrt(metrics.mean_squared_error(y_train, pred_train))\n",
    "rmse_val = sqrt(metrics.mean_squared_error(y_val, pred_val))\n",
    "print(\"RMSE (Train): \", rmse_train)\n",
    "print(\"RMSE (Validation): \",rmse_val)"
   ]
  },
  {
   "cell_type": "markdown",
   "metadata": {},
   "source": [
    "- **The all-Features model in Q3** - The R2 (Train) is 82.8% and R2 (Valid) is 74.2%, and The RMSE (Train) is 0.94 the RMSE (validation) is 1.16.\n",
    "- **The 4-PCAs model in Q5** - The R2 (Train) is 80.9% and R2 (Valid) is 68%, and The RMSE (Train) is 0.96 the RMSE (validation) is 1.29.\n",
    "- **The 30-KPCAs model** - The R2 (Train) is 83.9% and R2 (Valid) is 72%, and The RMSE (Train) is 0.88 the RMSE (validation) is 1.20."
   ]
  },
  {
   "cell_type": "markdown",
   "metadata": {},
   "source": [
    "- The Random Forest Regressor model with 30 KPCAs performs better than the model in Q5 with 4 PCAS, but performs as well as the model in Q3 with all features.\n",
    "- The R2 scores (Valid) of the 30 KPCAs model is 4% higher than the model in Q5 with 4 PCAs. \n",
    "- This implies that the KPCAs can capture the non-linear structure among features better than PCAs which is aimed to capture the linear structure. The KPCA transforms input to a high dimensinal feature space, thus improves the performance of our model."
   ]
  },
  {
   "cell_type": "markdown",
   "metadata": {},
   "source": [
    "### 6.3 RBF Kernel with SVR"
   ]
  },
  {
   "cell_type": "code",
   "execution_count": 85,
   "metadata": {},
   "outputs": [
    {
     "data": {
      "text/plain": [
       "SVR(C=10, gamma=0.1)"
      ]
     },
     "execution_count": 85,
     "metadata": {},
     "output_type": "execute_result"
    }
   ],
   "source": [
    "#the same params from Q4\n",
    "reg = SVR(kernel='rbf', C=10, gamma=0.1)\n",
    "reg.fit(X_train_kpca, y_train)"
   ]
  },
  {
   "cell_type": "code",
   "execution_count": 86,
   "metadata": {},
   "outputs": [
    {
     "name": "stdout",
     "output_type": "stream",
     "text": [
      "R2 Score (Model):  0.7437404463861647\n",
      "R2 Score (Validation):  0.7155274300093681\n",
      "RMSE (Train):  1.1187112165862774\n",
      "RMSE (Validation):  1.2188233865897349\n"
     ]
    }
   ],
   "source": [
    "# Your code\n",
    "pred_train = reg.predict(X_train_kpca)\n",
    "pred_val = reg.predict(X_val_kpca)\n",
    "\n",
    "#Compute R2\n",
    "r2_train = metrics.r2_score(y_train, pred_train)\n",
    "r2_val = metrics.r2_score(y_val, pred_val)\n",
    "print(\"R2 Score (Model): \", r2_train )\n",
    "print(\"R2 Score (Validation): \",r2_val)\n",
    "\n",
    "#Compute RMSE\n",
    "rmse_train = sqrt(metrics.mean_squared_error(y_train, pred_train))\n",
    "rmse_val = sqrt(metrics.mean_squared_error(y_val, pred_val))\n",
    "print(\"RMSE (Train): \", rmse_train)\n",
    "print(\"RMSE (Validation): \",rmse_val)"
   ]
  },
  {
   "cell_type": "markdown",
   "metadata": {},
   "source": [
    "- **The all-Features model in Q4** - The R2 (Train) is 76.6% and R2 (Valid) is 73.8%, and The RMSE (Train) is 1.06 the RMSE (validation) is 1.16.\n",
    "- **The 4-PCAs model in Q5** - The R2 (Train) is 75.5% and R2 (Valid) is 69.4%, and The RMSE (Train) is 1.09 the RMSE (validation) is 1.26.\n",
    "- **The 30-KPCAs model** - The R2 (Train) is 74.3% and R2 (Valid) is 71.5%, and The RMSE (Train) is 1.11 the RMSE (validation) is 1.21."
   ]
  },
  {
   "cell_type": "markdown",
   "metadata": {},
   "source": [
    "- The SVR model with 30 KPCAs performs better than the model in Q5 with 4 PCAS, but performs as well as the model in Q4 with all features.\n",
    "- The R2 scores (Valid) of the 30 KPCAs model is 4% higher than the model in Q5 with 4 PCAs. \n",
    "- This implies that the KPCAs can capture the non-linear structure among features better than PCAs which is aimed to capture the linear structure. The KPCA transforms input to a high dimensinal feature space, thus improves the performance of our model."
   ]
  },
  {
   "cell_type": "markdown",
   "metadata": {},
   "source": [
    "### 6.4 Comparison Summary"
   ]
  },
  {
   "cell_type": "markdown",
   "metadata": {},
   "source": [
    "- Fitted the KPCA model with the best parameters found in previous questions, all models with KPCAs perform better than the model fitted with 4 PCAs.\n",
    "- The models with 30 KPCA is not overfitting as the differnce of R2 scores for train and valid sets < 10%.\n",
    "- The models with 30 KPCAs have R2 score of validation more than 5% higher than the 4 PCAs model\n",
    "- The KPCAs perfomrs better and can capture the non-linear structure among features by transforming input to a high dimemsional feature space, thus improves the performance of our model.\n",
    "- The 4 PCAs performs the worst as it can capture only linear structure."
   ]
  },
  {
   "cell_type": "markdown",
   "metadata": {},
   "source": [
    "\n",
    "### 6.5 Parameter tuning of RBF Kernel SVM using KPCA "
   ]
  },
  {
   "cell_type": "markdown",
   "metadata": {},
   "source": [
    "#### 1. Find the best C value"
   ]
  },
  {
   "cell_type": "code",
   "execution_count": 87,
   "metadata": {},
   "outputs": [],
   "source": [
    "# Your code\n",
    "C_list = [0.00001, 0.0001, 0.001, 0.01, 0.1, 1, 10]\n",
    "r2_train = []\n",
    "r2_valid = []\n",
    "for c in C_list:\n",
    "    reg = SVR(kernel='rbf', C = c)\n",
    "    reg.fit(X_train_kpca, y_train)\n",
    "    #Train\n",
    "    pred_train = reg.predict(X_train_kpca)\n",
    "    r2_train.append(metrics.r2_score(y_train, pred_train))\n",
    "    #Valid\n",
    "    pred_val = reg.predict(X_val_kpca)\n",
    "    r2_valid.append(metrics.r2_score(y_val, pred_val))"
   ]
  },
  {
   "cell_type": "code",
   "execution_count": 88,
   "metadata": {},
   "outputs": [
    {
     "name": "stdout",
     "output_type": "stream",
     "text": [
      "R2 Train:  [-0.07552981305079154, -0.06037169084132055, 0.06920638104006527, 0.4292463212043248, 0.6963203828769139, 0.7553497129923955, 0.7688390873848434]\n",
      "R2 Validation:  [-0.07745670604022825, -0.06323438274975568, 0.05872918832678564, 0.40042878133081383, 0.6619307930190484, 0.7328949609079691, 0.7412627059173895]\n"
     ]
    }
   ],
   "source": [
    "print(\"R2 Train: \", r2_train)\n",
    "print(\"R2 Validation: \", r2_valid)"
   ]
  },
  {
   "cell_type": "code",
   "execution_count": 89,
   "metadata": {},
   "outputs": [
    {
     "data": {
      "image/png": "[encoded data removed]",
      "text/plain": [
       "<Figure size 720x360 with 1 Axes>"
      ]
     },
     "metadata": {
      "needs_background": "light"
     },
     "output_type": "display_data"
    }
   ],
   "source": [
    "# Code here Plot R2 Curve\n",
    "plt.figure(figsize=(10,5))\n",
    "plt.title(\"The R2 Curve of RBF Kernel (30 KPCAs)\")\n",
    "plt.plot(r2_train, 'bo--', label = 'train')\n",
    "plt.plot(r2_valid,'go--', label = 'valid')\n",
    "plt.xticks(np.arange(len(C_list)), C_list, rotation = 45)\n",
    "plt.xlabel('C Value')\n",
    "plt.ylabel('R2 Scores')\n",
    "plt.legend()\n",
    "plt.show()"
   ]
  },
  {
   "cell_type": "markdown",
   "metadata": {},
   "source": [
    "- The best C value is 10, the model is still not overfitting as the gap is 2.7%."
   ]
  },
  {
   "cell_type": "markdown",
   "metadata": {},
   "source": [
    "#### 2. Find the best gamma value with previous best c"
   ]
  },
  {
   "cell_type": "code",
   "execution_count": 90,
   "metadata": {},
   "outputs": [],
   "source": [
    "G_list = [0.00001, 0.0001, 0.001, 0.01, 0.1, 1, 10 ,100]\n",
    "r2_train = []\n",
    "r2_valid = []\n",
    "for g in G_list:\n",
    "    reg = SVR(kernel='rbf', C = 10, gamma =g)\n",
    "    reg.fit(X_train_kpca, y_train)\n",
    "    #Train\n",
    "    pred_train = reg.predict(X_train_kpca)\n",
    "    r2_train.append(metrics.r2_score(y_train, pred_train))\n",
    "    #Valid\n",
    "    pred_val = reg.predict(X_val_kpca)\n",
    "    r2_valid.append(metrics.r2_score(y_val, pred_val))"
   ]
  },
  {
   "cell_type": "code",
   "execution_count": 91,
   "metadata": {},
   "outputs": [
    {
     "name": "stdout",
     "output_type": "stream",
     "text": [
      "R2 Train:  [-0.021358953031922256, 0.2704277893063457, 0.5608425799880812, 0.7260935341822847, 0.7437404463861647, 0.7616032740162757, 0.8321842333985794, 0.9260164339148258]\n",
      "R2 Validation:  [-0.026739247517745035, 0.2475184350273929, 0.5244751616311462, 0.694140858630589, 0.7155274300093681, 0.7409704797326917, 0.7042009421404436, 0.45158392216847565]\n"
     ]
    }
   ],
   "source": [
    "print(\"R2 Train: \", r2_train)\n",
    "print(\"R2 Validation: \", r2_valid)"
   ]
  },
  {
   "cell_type": "code",
   "execution_count": 92,
   "metadata": {},
   "outputs": [
    {
     "data": {
      "image/png": "[encoded data removed]",
      "text/plain": [
       "<Figure size 720x360 with 1 Axes>"
      ]
     },
     "metadata": {
      "needs_background": "light"
     },
     "output_type": "display_data"
    }
   ],
   "source": [
    "# Code here Plot R2 Curve\n",
    "plt.figure(figsize=(10,5))\n",
    "plt.title(\"The R2 Curve of RBF Kernel(30 KPCAs)\")\n",
    "plt.plot(r2_train, 'bo--', label = 'train')\n",
    "plt.plot(r2_valid,'go--', label = 'valid')\n",
    "plt.xticks(np.arange(len(G_list)), G_list, rotation = 45)\n",
    "plt.xlabel('Gamma Value')\n",
    "plt.ylabel('R2 Scores')\n",
    "plt.legend()\n",
    "plt.show()"
   ]
  },
  {
   "cell_type": "markdown",
   "metadata": {},
   "source": [
    "The best Gamma value is 1, the model starts overfitting for the gamma value > 1.\n",
    "The best validation R2 at gamma of 1 is 74.9% which improve from the initial model (72%)\n",
    "So, we will apply the Gridsearch CV to find the best params."
   ]
  },
  {
   "cell_type": "markdown",
   "metadata": {},
   "source": [
    "#### 3. GridSearchCV"
   ]
  },
  {
   "cell_type": "code",
   "execution_count": 93,
   "metadata": {},
   "outputs": [],
   "source": [
    "reg = SVR(kernel='rbf')\n",
    "value = [0.00001, 0.0001, 0.001, 0.01, 0.1, 1, 10 ,100]\n",
    "params = {'C': value,\n",
    "          'gamma': value}\n",
    "\n",
    "grid = GridSearchCV(estimator=reg, param_grid=params, verbose=1, cv=5,scoring=\"r2\", n_jobs=-1)"
   ]
  },
  {
   "cell_type": "code",
   "execution_count": 94,
   "metadata": {},
   "outputs": [
    {
     "name": "stdout",
     "output_type": "stream",
     "text": [
      "Fitting 5 folds for each of 64 candidates, totalling 320 fits\n"
     ]
    },
    {
     "name": "stderr",
     "output_type": "stream",
     "text": [
      "[Parallel(n_jobs=-1)]: Using backend LokyBackend with 4 concurrent workers.\n",
      "[Parallel(n_jobs=-1)]: Done  42 tasks      | elapsed:   13.6s\n",
      "[Parallel(n_jobs=-1)]: Done 192 tasks      | elapsed:  1.1min\n",
      "[Parallel(n_jobs=-1)]: Done 320 out of 320 | elapsed:  2.3min finished\n"
     ]
    },
    {
     "data": {
      "text/plain": [
       "SVR(C=10, gamma=1)"
      ]
     },
     "execution_count": 94,
     "metadata": {},
     "output_type": "execute_result"
    }
   ],
   "source": [
    "grid.fit(X_train_kpca, y_train)\n",
    "grid.best_estimator_"
   ]
  },
  {
   "cell_type": "code",
   "execution_count": 95,
   "metadata": {},
   "outputs": [
    {
     "data": {
      "text/plain": [
       "SVR(C=10, gamma=1)"
      ]
     },
     "execution_count": 95,
     "metadata": {},
     "output_type": "execute_result"
    }
   ],
   "source": [
    "gs_reg = SVR(kernel='rbf', C=10, gamma=1)\n",
    "gs_reg.fit(X_train_kpca, y_train)"
   ]
  },
  {
   "cell_type": "code",
   "execution_count": 96,
   "metadata": {},
   "outputs": [
    {
     "name": "stdout",
     "output_type": "stream",
     "text": [
      "R2 Score (Train):  0.7616032740162757\n",
      "R2 Score (Validation):  0.7409704797326917\n",
      "RMSE (Train):  1.0790165431590053\n",
      "RMSE (Validation):  1.1630414990137783\n"
     ]
    }
   ],
   "source": [
    "# Your code\n",
    "#Compute R2\n",
    "pred_train = gs_reg.predict(X_train_kpca)\n",
    "pred_val = gs_reg.predict(X_val_kpca)\n",
    "\n",
    "r2_train = metrics.r2_score(y_train, pred_train)\n",
    "r2_val = metrics.r2_score(y_val, pred_val)\n",
    "print(\"R2 Score (Train): \", r2_train )\n",
    "print(\"R2 Score (Validation): \",r2_val)\n",
    "#Compute RMSE\n",
    "rmse_train = sqrt(metrics.mean_squared_error(y_train, pred_train))\n",
    "rmse_val = sqrt(metrics.mean_squared_error(y_val, pred_val))\n",
    "\n",
    "print(\"RMSE (Train): \", rmse_train)\n",
    "print(\"RMSE (Validation): \",rmse_val)"
   ]
  },
  {
   "cell_type": "markdown",
   "metadata": {},
   "source": [
    "- The R2 Score (Train) is 76% and R2 Score (Validation) is 74%\n",
    "- The training RMSE is 1.07 close to that of validation set 0f 1.16.\n",
    "- The RBF Regressor model with 30 KPCAs from the gridsearch is improved as R2 is higher and RMSE is lower.\n",
    "- The new 30 KPCAs model is less overfitting as the gap of R2 for train and valid sets is only 2%.\n",
    "- Comparing to all models, this new model with 30 KPCAs model is the least overfitting and performs the best as it can capture the non-linear structure among features, thus improves the performance of our model."
   ]
  },
  {
   "cell_type": "markdown",
   "metadata": {},
   "source": [
    "## Q7 [10]"
   ]
  },
  {
   "cell_type": "markdown",
   "metadata": {},
   "source": [
    "#### Let's do some classification "
   ]
  },
  {
   "cell_type": "markdown",
   "metadata": {},
   "source": [
    "We will convert CO target values into binary form by comparing them to a threshold. $ 0 - 3  mg/m^3$ is the range of max 8-hour avg. ambient CO in most US cities. So let's take that.  \n",
    "[CO Levels of Concern in Government Recommendations and Regulations](https://www.carbonmonoxidekills.com/are-you-at-risk/carbon-monoxide-levels/)"
   ]
  },
  {
   "cell_type": "code",
   "execution_count": 97,
   "metadata": {},
   "outputs": [],
   "source": [
    "from sklearn.preprocessing import Binarizer"
   ]
  },
  {
   "cell_type": "code",
   "execution_count": 98,
   "metadata": {},
   "outputs": [],
   "source": [
    "binarizer = Binarizer(threshold=3)"
   ]
  },
  {
   "cell_type": "code",
   "execution_count": 99,
   "metadata": {},
   "outputs": [],
   "source": [
    "binarizer.fit([y_train])\n",
    "y_train_cat = binarizer.transform([y_train]).ravel()\n",
    "y_val_cat = binarizer.transform([y_val]).ravel()\n",
    "y_test_cat = binarizer.transform([y_test]).ravel()"
   ]
  },
  {
   "cell_type": "code",
   "execution_count": 100,
   "metadata": {},
   "outputs": [
    {
     "data": {
      "image/png": "[encoded data removed]",
      "text/plain": [
       "<Figure size 432x288 with 1 Axes>"
      ]
     },
     "metadata": {
      "needs_background": "light"
     },
     "output_type": "display_data"
    }
   ],
   "source": [
    "plt.hist(y_train_cat.ravel());"
   ]
  },
  {
   "cell_type": "code",
   "execution_count": 101,
   "metadata": {},
   "outputs": [
    {
     "data": {
      "image/png": "[encoded data removed]",
      "text/plain": [
       "<Figure size 432x288 with 1 Axes>"
      ]
     },
     "metadata": {
      "needs_background": "light"
     },
     "output_type": "display_data"
    }
   ],
   "source": [
    "plt.hist(y_val_cat.ravel());"
   ]
  },
  {
   "cell_type": "markdown",
   "metadata": {},
   "source": [
    "#### 1.\n",
    "- Initiate the Support Vector Classifier from the sklearn library. Use RBF Kernel SVM classifier with default parameters. (No need to specify anything)\n",
    "- Fit the model using the standardized data. Make sure you use the categorized target variable for classification.\n",
    "- Make predictions\n",
    "- Calculate accuracy score. What are the **training** and **testing** accuracies of the model?\n",
    "- Create confusion matrix\n",
    "- Either using the confusion matrix or the methods in `sklearn.metrics` get the following metrics on the validation set:\n",
    "     - Recall (Sensitivity)\n",
    "     - Specificity\n",
    "     - Precision\n",
    "     - Balanced Accuracy\n",
    "     - F1 Score\n",
    "     \n",
    "\n",
    "#### 2.\n",
    "- Using the standardized training data perform grid search:\n",
    "    - Find the best combination of the `C` and `gamma` hyper-parameters.  \n",
    "- For the best model:\n",
    "    - Either using the confusion matrix or the methods in `sklearn.metrics` get the following metrics on the validation set:\n",
    "         - Recall (Sensitivity)\n",
    "         - Specificity\n",
    "         - Precision\n",
    "         - Balanced Accuracy\n",
    "         - F1 Score\n",
    "    - Compare the results to the model with default parameters. Any change?\n",
    "    \n",
    "\n",
    "#### 3.\n",
    "- Using the kernel pca transformed training data perform grid search:\n",
    "    - Find the best combination of the `C` and `gamma` hyper-parameters.  \n",
    "- For the best model:\n",
    "    - Either using the confusion matrix or the methods in `sklearn.metrics` get the following metrics on the validation set:\n",
    "         - Recall (Sensitivity)\n",
    "         - Specificity\n",
    "         - Precision\n",
    "         - Balanced Accuracy\n",
    "         - F1 Score\n",
    "    - Compare the results to the model using standardized training data (bullet 2). Is there any change in performance?\n",
    "    \n"
   ]
  },
  {
   "cell_type": "markdown",
   "metadata": {},
   "source": [
    "### Part 1"
   ]
  },
  {
   "cell_type": "code",
   "execution_count": 102,
   "metadata": {},
   "outputs": [],
   "source": [
    "from sklearn.svm import SVC"
   ]
  },
  {
   "cell_type": "code",
   "execution_count": 103,
   "metadata": {},
   "outputs": [],
   "source": [
    "svc = SVC(kernel ='rbf')"
   ]
  },
  {
   "cell_type": "code",
   "execution_count": 104,
   "metadata": {},
   "outputs": [
    {
     "data": {
      "text/plain": [
       "SVC()"
      ]
     },
     "execution_count": 104,
     "metadata": {},
     "output_type": "execute_result"
    }
   ],
   "source": [
    "# Your code\n",
    "svc.fit(X_train, y_train_cat)"
   ]
  },
  {
   "cell_type": "code",
   "execution_count": 105,
   "metadata": {},
   "outputs": [
    {
     "name": "stdout",
     "output_type": "stream",
     "text": [
      "Accuracy Scores (Train):  0.9213072457536013\n",
      "Accuracy Scores (Test):  0.925575101488498\n",
      "Accuracy Scores (Valid):  0.9232698094282848 \n",
      "\n"
     ]
    }
   ],
   "source": [
    "from sklearn import metrics\n",
    "#Accuracy Train\n",
    "pred_train = svc.predict(X_train)\n",
    "print(\"Accuracy Scores (Train): \",metrics.accuracy_score(y_true = y_train_cat, y_pred = pred_train))\n",
    "\n",
    "#Accuracy Test\n",
    "pred_test = svc.predict(X_test)\n",
    "print(\"Accuracy Scores (Test): \",metrics.accuracy_score(y_true = y_test_cat, y_pred = pred_test))\n",
    "\n",
    "#Accuracy validation\n",
    "pred_val = svc.predict(X_val)\n",
    "print(\"Accuracy Scores (Valid): \",metrics.accuracy_score(y_true = y_val_cat, y_pred = pred_val), \"\\n\")"
   ]
  },
  {
   "cell_type": "code",
   "execution_count": 106,
   "metadata": {},
   "outputs": [
    {
     "data": {
      "image/png": "[encoded data removed]",
      "text/plain": [
       "<Figure size 432x288 with 1 Axes>"
      ]
     },
     "metadata": {
      "needs_background": "light"
     },
     "output_type": "display_data"
    }
   ],
   "source": [
    "# Create confusion metrics\n",
    "confusion_matrix =  pd.crosstab(index=np.ravel(y_val_cat), columns=pred_val.ravel(), rownames=['Actual'], colnames=['Predicted'])\n",
    "sns.heatmap(confusion_matrix, annot=True, square=False, fmt='', cbar=False)\n",
    "plt.title(\"Confusion Matrix\", fontsize = 15)\n",
    "plt.show()"
   ]
  },
  {
   "cell_type": "code",
   "execution_count": 107,
   "metadata": {},
   "outputs": [
    {
     "name": "stdout",
     "output_type": "stream",
     "text": [
      "              precision    recall  f1-score   support\n",
      "\n",
      "         0.0       0.93      0.94      0.94      1195\n",
      "         1.0       0.91      0.89      0.90       799\n",
      "\n",
      "    accuracy                           0.92      1994\n",
      "   macro avg       0.92      0.92      0.92      1994\n",
      "weighted avg       0.92      0.92      0.92      1994\n",
      "\n",
      "\n",
      "Summary of Metrics:\n",
      "Sensitivity 0.893617\n",
      "Specificity 0.943096\n",
      "Precision 0.913043\n",
      "Accuracy 0.923270\n",
      "Balanced Accuracy 0.918357\n",
      "F1-score 0.903226\n"
     ]
    }
   ],
   "source": [
    "print(metrics.classification_report(y_true = y_val_cat, y_pred = pred_val))\n",
    "met = metrics.classification_report(y_true = y_val_cat, y_pred = pred_val,  output_dict=True)\n",
    "print(\"\\nSummary of Metrics:\")\n",
    "print(\"Sensitivity %f\"%(met['1.0']['recall']))\n",
    "print(\"Specificity %f\"%(met['0.0']['recall']))\n",
    "print(\"Precision %f\"%(met['1.0']['precision']))\n",
    "print(\"Accuracy %f\"%(met['accuracy']))\n",
    "print(\"Balanced Accuracy %f\"%(balanced_accuracy_score(y_val_cat, pred_val)))\n",
    "print(\"F1-score %f\"%(met['1.0']['f1-score']))"
   ]
  },
  {
   "cell_type": "markdown",
   "metadata": {},
   "source": [
    "### Part 2"
   ]
  },
  {
   "cell_type": "code",
   "execution_count": 108,
   "metadata": {},
   "outputs": [],
   "source": [
    "svc = SVC()\n",
    "value = [0.00001, 0.0001, 0.001, 0.01, 0.1, 1, 10 ,100, 1000]\n",
    "params = {'C': value,\n",
    "          'gamma': value,\n",
    "           'kernel': ['rbf']}\n",
    "\n",
    "grid = GridSearchCV(estimator=svc, param_grid=params, verbose=1, cv=5, n_jobs=-1)"
   ]
  },
  {
   "cell_type": "code",
   "execution_count": 109,
   "metadata": {},
   "outputs": [
    {
     "name": "stdout",
     "output_type": "stream",
     "text": [
      "Fitting 5 folds for each of 81 candidates, totalling 405 fits\n"
     ]
    },
    {
     "name": "stderr",
     "output_type": "stream",
     "text": [
      "[Parallel(n_jobs=-1)]: Using backend LokyBackend with 4 concurrent workers.\n",
      "[Parallel(n_jobs=-1)]: Done  42 tasks      | elapsed:    5.4s\n",
      "[Parallel(n_jobs=-1)]: Done 192 tasks      | elapsed:   24.0s\n",
      "[Parallel(n_jobs=-1)]: Done 405 out of 405 | elapsed:   51.3s finished\n"
     ]
    },
    {
     "data": {
      "text/plain": [
       "GridSearchCV(cv=5, estimator=SVC(), n_jobs=-1,\n",
       "             param_grid={'C': [1e-05, 0.0001, 0.001, 0.01, 0.1, 1, 10, 100,\n",
       "                               1000],\n",
       "                         'gamma': [1e-05, 0.0001, 0.001, 0.01, 0.1, 1, 10, 100,\n",
       "                                   1000],\n",
       "                         'kernel': ['rbf']},\n",
       "             verbose=1)"
      ]
     },
     "execution_count": 109,
     "metadata": {},
     "output_type": "execute_result"
    }
   ],
   "source": [
    "grid.fit(X_train, y_train_cat)"
   ]
  },
  {
   "cell_type": "code",
   "execution_count": 110,
   "metadata": {},
   "outputs": [
    {
     "data": {
      "text/plain": [
       "SVC(C=100, gamma=0.1)"
      ]
     },
     "execution_count": 110,
     "metadata": {},
     "output_type": "execute_result"
    }
   ],
   "source": [
    "grid.best_estimator_"
   ]
  },
  {
   "cell_type": "code",
   "execution_count": 111,
   "metadata": {},
   "outputs": [
    {
     "data": {
      "text/plain": [
       "SVC(C=100, gamma=0.1)"
      ]
     },
     "execution_count": 111,
     "metadata": {},
     "output_type": "execute_result"
    }
   ],
   "source": [
    "gs_reg = SVC(kernel='rbf', C=100, gamma=0.1)\n",
    "gs_reg.fit(X_train, y_train_cat)"
   ]
  },
  {
   "cell_type": "code",
   "execution_count": 112,
   "metadata": {},
   "outputs": [
    {
     "name": "stdout",
     "output_type": "stream",
     "text": [
      "Accuracy Scores (Train):  0.9318426144915072\n",
      "Accuracy Scores (Validation):  0.9242728184553661\n"
     ]
    }
   ],
   "source": [
    "#Accuracy Train\n",
    "pred_train = gs_reg.predict(X_train)\n",
    "print(\"Accuracy Scores (Train): \",metrics.accuracy_score(y_true = y_train_cat, y_pred = pred_train))\n",
    "#Accuracy Validation\n",
    "pred_val = gs_reg.predict(X_val)\n",
    "print(\"Accuracy Scores (Validation): \",metrics.accuracy_score(y_true = y_val_cat, y_pred = pred_val))"
   ]
  },
  {
   "cell_type": "code",
   "execution_count": 113,
   "metadata": {},
   "outputs": [
    {
     "data": {
      "image/png": "[encoded data removed]",
      "text/plain": [
       "<Figure size 432x288 with 1 Axes>"
      ]
     },
     "metadata": {
      "needs_background": "light"
     },
     "output_type": "display_data"
    }
   ],
   "source": [
    "# Create confusion metrics\n",
    "confusion_matrix =  pd.crosstab(index=np.ravel(y_val_cat), columns=pred_val.ravel(), rownames=['Actual'], colnames=['Predicted'])\n",
    "sns.heatmap(confusion_matrix, annot=True, square=False, fmt='', cbar=False)\n",
    "plt.title(\"Confusion Matrix\", fontsize = 15)\n",
    "plt.show()"
   ]
  },
  {
   "cell_type": "code",
   "execution_count": 114,
   "metadata": {},
   "outputs": [
    {
     "name": "stdout",
     "output_type": "stream",
     "text": [
      "              precision    recall  f1-score   support\n",
      "\n",
      "         0.0       0.94      0.94      0.94      1195\n",
      "         1.0       0.91      0.90      0.91       799\n",
      "\n",
      "    accuracy                           0.92      1994\n",
      "   macro avg       0.92      0.92      0.92      1994\n",
      "weighted avg       0.92      0.92      0.92      1994\n",
      "\n",
      "\n",
      "Summary of Metrics:\n",
      "Sensitivity 0.903630\n",
      "Specificity 0.938075\n",
      "Precision 0.907035\n",
      "Accuracy 0.924273\n",
      "Balanced Accuracy 0.920852\n",
      "F1-score 0.905329\n"
     ]
    }
   ],
   "source": [
    "print(metrics.classification_report(y_true = y_val_cat, y_pred = pred_val))\n",
    "met = metrics.classification_report(y_true = y_val_cat, y_pred = pred_val,  output_dict=True)\n",
    "print(\"\\nSummary of Metrics:\")\n",
    "print(\"Sensitivity %f\"%(met['1.0']['recall']))\n",
    "print(\"Specificity %f\"%(met['0.0']['recall']))\n",
    "print(\"Precision %f\"%(met['1.0']['precision']))\n",
    "print(\"Accuracy %f\"%(met['accuracy']))\n",
    "print(\"Balanced Accuracy %f\"%(balanced_accuracy_score(y_val_cat, pred_val)))\n",
    "print(\"F1-score %f\"%(met['1.0']['f1-score']))"
   ]
  },
  {
   "cell_type": "markdown",
   "metadata": {},
   "source": [
    "- The best GridsearchCV model have the accuracy, precision, f1 similar to the default model, so it performs similarily than the default model.\n",
    "- The best GridsearchCV model has a recall and F1 score less than 1% higher than those of default model.\n",
    "- The best model is not overfitting as the accuracy rate of train and validation set are high and close to each other."
   ]
  },
  {
   "cell_type": "markdown",
   "metadata": {},
   "source": [
    "### Part 3"
   ]
  },
  {
   "cell_type": "code",
   "execution_count": 115,
   "metadata": {},
   "outputs": [],
   "source": [
    "svc = SVC(kernel = \"rbf\")\n",
    "value = [0.00001, 0.0001, 0.001, 0.01, 0.1, 1, 10 ,100]\n",
    "params = {'C': value,\n",
    "          'gamma': value,}\n",
    "\n",
    "grid = GridSearchCV(estimator=svc, param_grid=params, verbose=1, cv=5, n_jobs=-1)"
   ]
  },
  {
   "cell_type": "code",
   "execution_count": 116,
   "metadata": {},
   "outputs": [
    {
     "name": "stdout",
     "output_type": "stream",
     "text": [
      "Fitting 5 folds for each of 64 candidates, totalling 320 fits\n"
     ]
    },
    {
     "name": "stderr",
     "output_type": "stream",
     "text": [
      "[Parallel(n_jobs=-1)]: Using backend LokyBackend with 4 concurrent workers.\n",
      "[Parallel(n_jobs=-1)]: Done  42 tasks      | elapsed:    9.8s\n",
      "[Parallel(n_jobs=-1)]: Done 192 tasks      | elapsed:   41.0s\n",
      "[Parallel(n_jobs=-1)]: Done 320 out of 320 | elapsed:  1.0min finished\n"
     ]
    },
    {
     "data": {
      "text/plain": [
       "GridSearchCV(cv=5, estimator=SVC(), n_jobs=-1,\n",
       "             param_grid={'C': [1e-05, 0.0001, 0.001, 0.01, 0.1, 1, 10, 100],\n",
       "                         'gamma': [1e-05, 0.0001, 0.001, 0.01, 0.1, 1, 10,\n",
       "                                   100]},\n",
       "             verbose=1)"
      ]
     },
     "execution_count": 116,
     "metadata": {},
     "output_type": "execute_result"
    }
   ],
   "source": [
    "grid.fit(X_train_kpca, y_train_cat)"
   ]
  },
  {
   "cell_type": "code",
   "execution_count": 117,
   "metadata": {},
   "outputs": [
    {
     "data": {
      "text/plain": [
       "SVC(C=100, gamma=1)"
      ]
     },
     "execution_count": 117,
     "metadata": {},
     "output_type": "execute_result"
    }
   ],
   "source": [
    "grid.best_estimator_"
   ]
  },
  {
   "cell_type": "code",
   "execution_count": 118,
   "metadata": {},
   "outputs": [
    {
     "data": {
      "text/plain": [
       "SVC(C=100, gamma=1)"
      ]
     },
     "execution_count": 118,
     "metadata": {},
     "output_type": "execute_result"
    }
   ],
   "source": [
    "gs_reg = SVC(kernel='rbf', C=100, gamma=1)\n",
    "gs_reg.fit(X_train_kpca, y_train_cat)"
   ]
  },
  {
   "cell_type": "code",
   "execution_count": 119,
   "metadata": {},
   "outputs": [
    {
     "name": "stdout",
     "output_type": "stream",
     "text": [
      "Accuracy Scores (Train):  0.9400129004515158\n",
      "Accuracy Scores (Validation):  0.9227683049147443\n"
     ]
    }
   ],
   "source": [
    "#Accuracy Train\n",
    "pred_train = gs_reg.predict(X_train_kpca)\n",
    "print(\"Accuracy Scores (Train): \",metrics.accuracy_score(y_true = y_train_cat, y_pred = pred_train))\n",
    "#Accuracy Validation\n",
    "pred_val = gs_reg.predict(X_val_kpca)\n",
    "print(\"Accuracy Scores (Validation): \",metrics.accuracy_score(y_true = y_val_cat, y_pred = pred_val))"
   ]
  },
  {
   "cell_type": "code",
   "execution_count": 120,
   "metadata": {},
   "outputs": [
    {
     "data": {
      "image/png": "[encoded data removed]",
      "text/plain": [
       "<Figure size 432x288 with 1 Axes>"
      ]
     },
     "metadata": {
      "needs_background": "light"
     },
     "output_type": "display_data"
    }
   ],
   "source": [
    "# Create confusion metrics\n",
    "confusion_matrix =  pd.crosstab(index=np.ravel(y_val_cat), columns=pred_val.ravel(), rownames=['Actual'], colnames=['Predicted'])\n",
    "sns.heatmap(confusion_matrix, annot=True, square=False, fmt='', cbar=False)\n",
    "plt.title(\"Confusion Matrix\", fontsize = 15)\n",
    "plt.show()"
   ]
  },
  {
   "cell_type": "code",
   "execution_count": 121,
   "metadata": {},
   "outputs": [
    {
     "name": "stdout",
     "output_type": "stream",
     "text": [
      "              precision    recall  f1-score   support\n",
      "\n",
      "         0.0       0.94      0.93      0.94      1195\n",
      "         1.0       0.90      0.91      0.90       799\n",
      "\n",
      "    accuracy                           0.92      1994\n",
      "   macro avg       0.92      0.92      0.92      1994\n",
      "weighted avg       0.92      0.92      0.92      1994\n",
      "\n",
      "\n",
      "Summary of Metrics:\n",
      "Sensitivity 0.906133\n",
      "Specificity 0.933891\n",
      "Precision 0.901619\n",
      "Accuracy 0.922768\n",
      "Balanced Accuracy 0.920012\n",
      "F1-score 0.903870\n"
     ]
    }
   ],
   "source": [
    "print(metrics.classification_report(y_true = y_val_cat, y_pred = pred_val))\n",
    "met = metrics.classification_report(y_true = y_val_cat, y_pred = pred_val,  output_dict=True)\n",
    "print(\"\\nSummary of Metrics:\")\n",
    "print(\"Sensitivity %f\"%(met['1.0']['recall']))\n",
    "print(\"Specificity %f\"%(met['0.0']['recall']))\n",
    "print(\"Precision %f\"%(met['1.0']['precision']))\n",
    "print(\"Accuracy %f\"%(met['accuracy']))\n",
    "print(\"Balanced Accuracy %f\"%(balanced_accuracy_score(y_val_cat, pred_val)))\n",
    "print(\"F1-score %f\"%(met['1.0']['f1-score']))"
   ]
  },
  {
   "cell_type": "markdown",
   "metadata": {},
   "source": [
    "- The best KPCAs model in Part 3 have similiar sensitivity, accuracy, precision, f1 similar to the Part 2 model, so it performs similarily to the part-2 model.\n",
    "- The KPCAs model in Part 3 is more overfitting than the Part-2 model as the gap between accuracy rate of train and validation set is 1.8% which is higher than the gap in part 2 of 0.7%."
   ]
  },
  {
   "cell_type": "markdown",
   "metadata": {},
   "source": [
    "## Q8 [10]"
   ]
  },
  {
   "cell_type": "markdown",
   "metadata": {},
   "source": [
    "- Using the Support Vector Regressor (Any of them):\n",
    "    - Think of other ways of improving the regression performance and list at least two possibilities.\n",
    "    - You can use any of the datasets we have been using, or re-create your own set from the original.\n",
    "    - Implement both of the methods you proposed. \n",
    "    - Is the validation performance increasing? For performance comparison you can use any regression performance metric that you deem to be appropriate. \n",
    "    - If both of them did not improve, comment on why this might have been the case. What else can be done?\n",
    "    - Optional: Apply different things as you see fit and see if the validation performance is improving."
   ]
  },
  {
   "cell_type": "markdown",
   "metadata": {},
   "source": [
    "### Method 1: Remove Outliers using Interquatile Rule (IQR)"
   ]
  },
  {
   "cell_type": "markdown",
   "metadata": {},
   "source": [
    "- An outlier and noise can incorrectly change the mean and standardiviation which can have the negative impact on the SVR model.\n",
    "- To improve the SVR model and avoid misleading interpretations, we need to remove outliers.\n",
    "- IQR method can identify outliers by computing the range between Q1 and Q3. if the data points is less than (Q1-1.5*IQR) or more than (Q3+1.5*IQR), they are considered as outliers.\n"
   ]
  },
  {
   "cell_type": "code",
   "execution_count": 122,
   "metadata": {},
   "outputs": [
    {
     "name": "stdout",
     "output_type": "stream",
     "text": [
      "AT      12.611500\n",
      "AP       8.625000\n",
      "AH      20.206500\n",
      "AFDP     1.077525\n",
      "GTEP     6.871250\n",
      "TIT     29.400000\n",
      "TAT      5.282500\n",
      "TEY     20.905000\n",
      "CDP      1.682250\n",
      "CO       1.894375\n",
      "NOX     12.694250\n",
      "dtype: float64\n"
     ]
    }
   ],
   "source": [
    "# Compute IQR\n",
    "Q1 = df.quantile(0.25)\n",
    "Q3 = df.quantile(0.75)\n",
    "IQR = Q3 - Q1\n",
    "print(IQR)"
   ]
  },
  {
   "cell_type": "code",
   "execution_count": 123,
   "metadata": {},
   "outputs": [],
   "source": [
    "# Remove outliers and create new dataset\n",
    "new_df = df[~((df < (Q1 - 1.5 * IQR)) |(df > (Q3 + 1.5 * IQR))).any(axis=1)]"
   ]
  },
  {
   "cell_type": "markdown",
   "metadata": {},
   "source": [
    "#### Clean data (No outliers)"
   ]
  },
  {
   "cell_type": "code",
   "execution_count": 124,
   "metadata": {},
   "outputs": [
    {
     "data": {
      "text/html": [
       "<div>\n",
       "<style scoped>\n",
       "    .dataframe tbody tr th:only-of-type {\n",
       "        vertical-align: middle;\n",
       "    }\n",
       "\n",
       "    .dataframe tbody tr th {\n",
       "        vertical-align: top;\n",
       "    }\n",
       "\n",
       "    .dataframe thead th {\n",
       "        text-align: right;\n",
       "    }\n",
       "</style>\n",
       "<table border=\"1\" class=\"dataframe\">\n",
       "  <thead>\n",
       "    <tr style=\"text-align: right;\">\n",
       "      <th></th>\n",
       "      <th>AT</th>\n",
       "      <th>AP</th>\n",
       "      <th>AH</th>\n",
       "      <th>AFDP</th>\n",
       "      <th>GTEP</th>\n",
       "      <th>TIT</th>\n",
       "      <th>TAT</th>\n",
       "      <th>TEY</th>\n",
       "      <th>CDP</th>\n",
       "      <th>CO</th>\n",
       "      <th>NOX</th>\n",
       "    </tr>\n",
       "  </thead>\n",
       "  <tbody>\n",
       "    <tr>\n",
       "      <th>count</th>\n",
       "      <td>6152.000000</td>\n",
       "      <td>6152.000000</td>\n",
       "      <td>6152.000000</td>\n",
       "      <td>6152.000000</td>\n",
       "      <td>6152.000000</td>\n",
       "      <td>6152.000000</td>\n",
       "      <td>6152.000000</td>\n",
       "      <td>6152.000000</td>\n",
       "      <td>6152.000000</td>\n",
       "      <td>6152.000000</td>\n",
       "      <td>6152.000000</td>\n",
       "    </tr>\n",
       "    <tr>\n",
       "      <th>mean</th>\n",
       "      <td>18.961726</td>\n",
       "      <td>1013.335317</td>\n",
       "      <td>68.036505</td>\n",
       "      <td>3.613334</td>\n",
       "      <td>25.965724</td>\n",
       "      <td>1080.207819</td>\n",
       "      <td>548.105844</td>\n",
       "      <td>133.371824</td>\n",
       "      <td>12.053777</td>\n",
       "      <td>2.701250</td>\n",
       "      <td>57.956808</td>\n",
       "    </tr>\n",
       "    <tr>\n",
       "      <th>std</th>\n",
       "      <td>7.291085</td>\n",
       "      <td>5.727596</td>\n",
       "      <td>13.816873</td>\n",
       "      <td>0.562190</td>\n",
       "      <td>3.879969</td>\n",
       "      <td>17.176065</td>\n",
       "      <td>3.189006</td>\n",
       "      <td>13.341493</td>\n",
       "      <td>0.962716</td>\n",
       "      <td>1.276189</td>\n",
       "      <td>8.126079</td>\n",
       "    </tr>\n",
       "    <tr>\n",
       "      <th>min</th>\n",
       "      <td>-3.303800</td>\n",
       "      <td>996.760000</td>\n",
       "      <td>29.270000</td>\n",
       "      <td>2.471700</td>\n",
       "      <td>17.972000</td>\n",
       "      <td>1037.200000</td>\n",
       "      <td>536.870000</td>\n",
       "      <td>100.470000</td>\n",
       "      <td>9.935800</td>\n",
       "      <td>0.212900</td>\n",
       "      <td>39.556000</td>\n",
       "    </tr>\n",
       "    <tr>\n",
       "      <th>25%</th>\n",
       "      <td>13.381750</td>\n",
       "      <td>1009.100000</td>\n",
       "      <td>58.163500</td>\n",
       "      <td>3.175300</td>\n",
       "      <td>23.388750</td>\n",
       "      <td>1072.900000</td>\n",
       "      <td>546.570000</td>\n",
       "      <td>128.610000</td>\n",
       "      <td>11.571000</td>\n",
       "      <td>1.733975</td>\n",
       "      <td>52.177750</td>\n",
       "    </tr>\n",
       "    <tr>\n",
       "      <th>50%</th>\n",
       "      <td>19.277500</td>\n",
       "      <td>1013.100000</td>\n",
       "      <td>70.276000</td>\n",
       "      <td>3.543950</td>\n",
       "      <td>25.299500</td>\n",
       "      <td>1080.300000</td>\n",
       "      <td>549.840000</td>\n",
       "      <td>131.555000</td>\n",
       "      <td>11.936000</td>\n",
       "      <td>2.319000</td>\n",
       "      <td>56.018000</td>\n",
       "    </tr>\n",
       "    <tr>\n",
       "      <th>75%</th>\n",
       "      <td>24.634750</td>\n",
       "      <td>1016.900000</td>\n",
       "      <td>79.396500</td>\n",
       "      <td>4.182075</td>\n",
       "      <td>29.734000</td>\n",
       "      <td>1099.700000</td>\n",
       "      <td>550.060000</td>\n",
       "      <td>145.957500</td>\n",
       "      <td>13.061250</td>\n",
       "      <td>3.523125</td>\n",
       "      <td>62.912000</td>\n",
       "    </tr>\n",
       "    <tr>\n",
       "      <th>max</th>\n",
       "      <td>36.264000</td>\n",
       "      <td>1031.200000</td>\n",
       "      <td>96.666000</td>\n",
       "      <td>4.901600</td>\n",
       "      <td>38.362000</td>\n",
       "      <td>1100.300000</td>\n",
       "      <td>550.590000</td>\n",
       "      <td>162.400000</td>\n",
       "      <td>13.807000</td>\n",
       "      <td>6.536900</td>\n",
       "      <td>84.120000</td>\n",
       "    </tr>\n",
       "  </tbody>\n",
       "</table>\n",
       "</div>"
      ],
      "text/plain": [
       "                AT           AP           AH         AFDP         GTEP  \\\n",
       "count  6152.000000  6152.000000  6152.000000  6152.000000  6152.000000   \n",
       "mean     18.961726  1013.335317    68.036505     3.613334    25.965724   \n",
       "std       7.291085     5.727596    13.816873     0.562190     3.879969   \n",
       "min      -3.303800   996.760000    29.270000     2.471700    17.972000   \n",
       "25%      13.381750  1009.100000    58.163500     3.175300    23.388750   \n",
       "50%      19.277500  1013.100000    70.276000     3.543950    25.299500   \n",
       "75%      24.634750  1016.900000    79.396500     4.182075    29.734000   \n",
       "max      36.264000  1031.200000    96.666000     4.901600    38.362000   \n",
       "\n",
       "               TIT          TAT          TEY          CDP           CO  \\\n",
       "count  6152.000000  6152.000000  6152.000000  6152.000000  6152.000000   \n",
       "mean   1080.207819   548.105844   133.371824    12.053777     2.701250   \n",
       "std      17.176065     3.189006    13.341493     0.962716     1.276189   \n",
       "min    1037.200000   536.870000   100.470000     9.935800     0.212900   \n",
       "25%    1072.900000   546.570000   128.610000    11.571000     1.733975   \n",
       "50%    1080.300000   549.840000   131.555000    11.936000     2.319000   \n",
       "75%    1099.700000   550.060000   145.957500    13.061250     3.523125   \n",
       "max    1100.300000   550.590000   162.400000    13.807000     6.536900   \n",
       "\n",
       "               NOX  \n",
       "count  6152.000000  \n",
       "mean     57.956808  \n",
       "std       8.126079  \n",
       "min      39.556000  \n",
       "25%      52.177750  \n",
       "50%      56.018000  \n",
       "75%      62.912000  \n",
       "max      84.120000  "
      ]
     },
     "execution_count": 124,
     "metadata": {},
     "output_type": "execute_result"
    }
   ],
   "source": [
    "# Check the statistics\n",
    "new_df.describe()"
   ]
  },
  {
   "cell_type": "markdown",
   "metadata": {},
   "source": [
    "#### Resplit the new dataset"
   ]
  },
  {
   "cell_type": "code",
   "execution_count": 125,
   "metadata": {},
   "outputs": [],
   "source": [
    "# Resplitted the new dataset\n",
    "y_c = new_df.CO\n",
    "X_c = new_df.drop(['CO', 'NOX'], axis=1)\n",
    "from sklearn.model_selection import train_test_split\n",
    "X_train_clean, X_test_clean, y_train_clean, y_test_clean = train_test_split(X_c, y_c, test_size=0.10, random_state=555)\n",
    "X_train_clean, X_val_clean, y_train_clean, y_val_clean = train_test_split(X_train_clean, y_train_clean, test_size=0.30, random_state=555)"
   ]
  },
  {
   "cell_type": "markdown",
   "metadata": {},
   "source": [
    "#### Standardize data"
   ]
  },
  {
   "cell_type": "code",
   "execution_count": 126,
   "metadata": {},
   "outputs": [],
   "source": [
    "# Standardization of the data\n",
    "from sklearn.preprocessing import StandardScaler\n",
    "ss = StandardScaler()\n",
    "ss.fit(X_train_clean)\n",
    "X_train_clean = ss.transform(X_train_clean)\n",
    "X_val_clean = ss.transform(X_val_clean)\n",
    "X_test_clean = ss.transform(X_test_clean)"
   ]
  },
  {
   "cell_type": "markdown",
   "metadata": {},
   "source": [
    "#### Gridsearch"
   ]
  },
  {
   "cell_type": "code",
   "execution_count": 127,
   "metadata": {},
   "outputs": [],
   "source": [
    "# Perform Gridsearch\n",
    "from sklearn.svm import SVR\n",
    "reg = SVR(kernel='rbf')\n",
    "value = [0.00001, 0.0001, 0.001, 0.01, 0.1, 1, 10 ,100]\n",
    "params = {'C': value,\n",
    "          'gamma': value}\n",
    "\n",
    "grid = GridSearchCV(estimator=reg, param_grid=params, verbose=1, cv=5,scoring=\"r2\", n_jobs=-1)"
   ]
  },
  {
   "cell_type": "code",
   "execution_count": 128,
   "metadata": {},
   "outputs": [
    {
     "name": "stdout",
     "output_type": "stream",
     "text": [
      "Fitting 5 folds for each of 64 candidates, totalling 320 fits\n"
     ]
    },
    {
     "name": "stderr",
     "output_type": "stream",
     "text": [
      "[Parallel(n_jobs=-1)]: Using backend LokyBackend with 4 concurrent workers.\n",
      "[Parallel(n_jobs=-1)]: Done  42 tasks      | elapsed:    6.2s\n",
      "[Parallel(n_jobs=-1)]: Done 192 tasks      | elapsed:   26.7s\n",
      "[Parallel(n_jobs=-1)]: Done 320 out of 320 | elapsed:  1.2min finished\n"
     ]
    },
    {
     "data": {
      "text/plain": [
       "SVR(C=10, gamma=0.1)"
      ]
     },
     "execution_count": 128,
     "metadata": {},
     "output_type": "execute_result"
    }
   ],
   "source": [
    "grid.fit(X_train_clean, y_train_clean)\n",
    "grid.best_estimator_"
   ]
  },
  {
   "cell_type": "markdown",
   "metadata": {},
   "source": [
    "#### Fit the RBF Kernel SVR with the best params"
   ]
  },
  {
   "cell_type": "code",
   "execution_count": 129,
   "metadata": {},
   "outputs": [
    {
     "data": {
      "text/plain": [
       "SVR(C=10, gamma=0.1)"
      ]
     },
     "execution_count": 129,
     "metadata": {},
     "output_type": "execute_result"
    }
   ],
   "source": [
    "#Fit the best model\n",
    "gs_reg = SVR(kernel='rbf', C=10, gamma=0.1)\n",
    "gs_reg.fit(X_train_clean, y_train_clean)"
   ]
  },
  {
   "cell_type": "code",
   "execution_count": 130,
   "metadata": {},
   "outputs": [
    {
     "name": "stdout",
     "output_type": "stream",
     "text": [
      "R2 Score (Train):  0.8282792656132072\n",
      "R2 Score (Validation):  0.8190355056103744\n",
      "RMSE (Train):  0.5285945853505051\n",
      "RMSE (Validation):  0.5533950591184246\n"
     ]
    }
   ],
   "source": [
    "#Compute R2\n",
    "pred_train = gs_reg.predict(X_train_clean)\n",
    "pred_val = gs_reg.predict(X_val_clean)\n",
    "\n",
    "r2_train = metrics.r2_score(y_train_clean, pred_train)\n",
    "r2_val = metrics.r2_score(y_val_clean, pred_val)\n",
    "print(\"R2 Score (Train): \", r2_train )\n",
    "print(\"R2 Score (Validation): \",r2_val)\n",
    "#Compute RMSE\n",
    "rmse_train = sqrt(metrics.mean_squared_error(y_train_clean, pred_train))\n",
    "rmse_val = sqrt(metrics.mean_squared_error(y_val_clean, pred_val))\n",
    "\n",
    "print(\"RMSE (Train): \", rmse_train)\n",
    "print(\"RMSE (Validation): \",rmse_val)"
   ]
  },
  {
   "cell_type": "markdown",
   "metadata": {},
   "source": [
    "### Summary Method 1"
   ]
  },
  {
   "cell_type": "markdown",
   "metadata": {},
   "source": [
    "- The new SVR model has significantly improved from all previous SVR models that fitted with original datataset (in Q4), PCAs (in Q5), 30KPCAs (in Q6).\n",
    "- Removing outliers has  significantly improved model vecuase SVR is sensitive to the noise.\n",
    "- The new model has R2 score about 8% higher than the initial model for both train and validation sets\n",
    "- The R2 Score (Validation) is 81.90%, compared to R2 of the previous model of 73% (Q4).\n",
    "- The RMSE of the new model is 0.55 which is 50% lower than the RMSE of 1.16 of the previous model.\n",
    "- Compared to all SVR previous models, the new model is not overfitting and has the least gap, its R2 scores for train is only 1% higher than that of the validation."
   ]
  },
  {
   "cell_type": "markdown",
   "metadata": {},
   "source": [
    "### Method 2: Increase size of Kernel PCA to 50"
   ]
  },
  {
   "cell_type": "markdown",
   "metadata": {},
   "source": [
    "- Increasing the size of KPCA will increase the dimensional space\n",
    "- It will provide us with greater power and can help in capturing the non-linear relationship.\n",
    "- We will increase the KPCAs from 30 in Q6 to 50\n",
    "- We will use the same dataset with method 1 (clean data with no outliers)"
   ]
  },
  {
   "cell_type": "code",
   "execution_count": 131,
   "metadata": {},
   "outputs": [],
   "source": [
    "from sklearn.decomposition import KernelPCA\n",
    "kpca = KernelPCA(n_components=100, kernel='rbf', n_jobs=-1, remove_zero_eig=True)\n",
    "kpca.fit(X_train_clean)\n",
    "X_train_kpca = kpca.transform(X_train_clean)\n",
    "X_val_kpca = kpca.transform(X_val_clean)"
   ]
  },
  {
   "cell_type": "code",
   "execution_count": 132,
   "metadata": {},
   "outputs": [],
   "source": [
    "#Create 50 KPCAs \n",
    "X_train_kpca = X_train_kpca[:, 0:50]\n",
    "X_val_kpca = X_val_kpca[:, 0:50]"
   ]
  },
  {
   "cell_type": "code",
   "execution_count": 133,
   "metadata": {},
   "outputs": [],
   "source": [
    "# Perform Gridsearch\n",
    "from sklearn.svm import SVR\n",
    "reg = SVR(kernel='rbf')\n",
    "value = [0.00001, 0.0001, 0.001, 0.01, 0.1, 1, 10 ,100]\n",
    "params = {'C': value,\n",
    "          'gamma': value}\n",
    "\n",
    "grid = GridSearchCV(estimator=reg, param_grid=params, verbose=1, cv=5,scoring=\"r2\", n_jobs=-1)"
   ]
  },
  {
   "cell_type": "code",
   "execution_count": 134,
   "metadata": {},
   "outputs": [
    {
     "name": "stdout",
     "output_type": "stream",
     "text": [
      "Fitting 5 folds for each of 64 candidates, totalling 320 fits\n"
     ]
    },
    {
     "name": "stderr",
     "output_type": "stream",
     "text": [
      "[Parallel(n_jobs=-1)]: Using backend LokyBackend with 4 concurrent workers.\n",
      "[Parallel(n_jobs=-1)]: Done  42 tasks      | elapsed:   12.5s\n",
      "[Parallel(n_jobs=-1)]: Done 192 tasks      | elapsed:   53.6s\n",
      "[Parallel(n_jobs=-1)]: Done 320 out of 320 | elapsed:  1.9min finished\n"
     ]
    },
    {
     "data": {
      "text/plain": [
       "SVR(C=100, gamma=0.1)"
      ]
     },
     "execution_count": 134,
     "metadata": {},
     "output_type": "execute_result"
    }
   ],
   "source": [
    "grid.fit(X_train_kpca, y_train_clean)\n",
    "grid.best_estimator_"
   ]
  },
  {
   "cell_type": "code",
   "execution_count": 135,
   "metadata": {},
   "outputs": [
    {
     "data": {
      "text/plain": [
       "SVR(C=100, gamma=0.1)"
      ]
     },
     "execution_count": 135,
     "metadata": {},
     "output_type": "execute_result"
    }
   ],
   "source": [
    "#Fit the best model\n",
    "gs_reg = SVR(kernel='rbf', C=100, gamma=0.1)\n",
    "gs_reg.fit(X_train_kpca, y_train_clean)"
   ]
  },
  {
   "cell_type": "code",
   "execution_count": 136,
   "metadata": {},
   "outputs": [
    {
     "name": "stdout",
     "output_type": "stream",
     "text": [
      "R2 Score (Train):  0.8219424148266208\n",
      "R2 Score (Validation):  0.819929244986789\n",
      "RMSE (Train):  0.5382593481849796\n",
      "RMSE (Validation):  0.5520268262634312\n"
     ]
    }
   ],
   "source": [
    "# Your code\n",
    "#Compute R2\n",
    "pred_train = gs_reg.predict(X_train_kpca)\n",
    "pred_val = gs_reg.predict(X_val_kpca)\n",
    "\n",
    "r2_train = metrics.r2_score(y_train_clean, pred_train)\n",
    "r2_val = metrics.r2_score(y_val_clean, pred_val)\n",
    "print(\"R2 Score (Train): \", r2_train )\n",
    "print(\"R2 Score (Validation): \",r2_val)\n",
    "#Compute RMSE\n",
    "rmse_train = sqrt(metrics.mean_squared_error(y_train_clean, pred_train))\n",
    "rmse_val = sqrt(metrics.mean_squared_error(y_val_clean, pred_val))\n",
    "\n",
    "print(\"RMSE (Train): \", rmse_train)\n",
    "print(\"RMSE (Validation): \",rmse_val)"
   ]
  },
  {
   "cell_type": "markdown",
   "metadata": {},
   "source": [
    "### Summary Method 2"
   ]
  },
  {
   "cell_type": "markdown",
   "metadata": {},
   "source": [
    "- The new SVR model has significantly improved from the previous SVR model that fitted with 30 KPCAs (in Q6).\n",
    "- The new model has R2 score about 8% higher than the 30 KPCAs model for both train and validation sets\n",
    "- The R2 Score (Validation) is 81.99%, compared to R2 of the previous model with 30 KPCAs of 74%.\n",
    "- The RMSE of the new model is 0.55 which is 60% lower than the RMSE of 1.16 of the previous model.\n",
    "- Compared to the previous model with 30 KPCAs, the new model is not overfitting, its R2 scores for train is only 0.2% higher than that of the validation."
   ]
  },
  {
   "cell_type": "markdown",
   "metadata": {},
   "source": [
    "## Q9 [10]"
   ]
  },
  {
   "cell_type": "markdown",
   "metadata": {},
   "source": [
    "- Using the Support Vector Classifier (Any of them):\n",
    "    - Think of other ways of improving the clasification performance and list at least two possibilities.\n",
    "    - You can use any of the datasets we have been using, or re-create your own set from the original.\n",
    "    - Implement both of the methods you proposed. \n",
    "    - Is the validation performance increasing? For performance comparison you can use any classification performance metric that you deem to be appropriate.\n",
    "    - If both of them did not improve, comment on why this might have been the case. What else can be done?\n",
    "    - Use at least 3 more classification models to perform classification. (Logistic Reg, Random Forest, etc. You can choose anything)\n",
    "        - Perform hyper-parameter tuning on at least one of them.\n",
    "        - Compare the validation performances with SVC. Which one is better?\n",
    "    - Optional: Apply different methods as you see fit and see if the validation performance is improving."
   ]
  },
  {
   "cell_type": "code",
   "execution_count": 137,
   "metadata": {},
   "outputs": [],
   "source": [
    "#This function will be called to print the classification report and summary of metric.\n",
    "def performMetric(my_true, my_pred, printMetric):\n",
    "    if (printMetric == True):\n",
    "        print(metrics.classification_report(y_true = my_true, y_pred = my_pred))\n",
    "    met = metrics.classification_report(y_true = my_true, y_pred = my_pred,  output_dict=True)\n",
    "    print(\"\\nSummary of Metrics:\")\n",
    "    print(\"Sensitivity %f\"%(met['1.0']['recall']))\n",
    "    print(\"Specificity %f\"%(met['0.0']['recall']))\n",
    "    print(\"Precision %f\"%(met['1.0']['precision']))\n",
    "    print(\"Accuracy %f\"%(met['accuracy']))\n",
    "    print(\"Balanced Accuracy %f\"%(balanced_accuracy_score(y_val_cat, pred_val)))\n",
    "    print(\"F1-score %f\"%(met['1.0']['f1-score']))"
   ]
  },
  {
   "cell_type": "markdown",
   "metadata": {},
   "source": [
    "### Method 1: Feature Selection (ExtraTreesClassifier)"
   ]
  },
  {
   "cell_type": "markdown",
   "metadata": {},
   "source": [
    "- As we try to improve SVC to predict binary y, we need to select important and relevent features that have the strongest relationship with the the target class\n",
    "- Using the original dataset (standardized values)\n",
    "- Recreate binary target y for the new dataset\n",
    "- Use ExtraTreesClassifier to examine the important value of features\n",
    "- The higher value is the more important the variable is.\n",
    "- We will drop features with the low feature importances scores"
   ]
  },
  {
   "cell_type": "code",
   "execution_count": 138,
   "metadata": {},
   "outputs": [
    {
     "data": {
      "text/plain": [
       "AT      0.148358\n",
       "AP      0.046520\n",
       "AH      0.034634\n",
       "AFDP    0.180890\n",
       "GTEP    0.099384\n",
       "TIT     0.167753\n",
       "TAT     0.039431\n",
       "TEY     0.128247\n",
       "CDP     0.154782\n",
       "dtype: float64"
      ]
     },
     "execution_count": 138,
     "metadata": {},
     "output_type": "execute_result"
    }
   ],
   "source": [
    "#Use ExtraTreesClassifier to rank the important features\n",
    "from sklearn.ensemble import ExtraTreesClassifier\n",
    "model = ExtraTreesClassifier(n_estimators=100)\n",
    "model.fit(X_train, y_train_cat)#y binary from Q7\n",
    "imp = model.feature_importances_\n",
    "feat_importances = pd.Series(imp, index=X.columns)\n",
    "feat_importances"
   ]
  },
  {
   "cell_type": "code",
   "execution_count": 139,
   "metadata": {},
   "outputs": [
    {
     "data": {
      "image/png": "[encoded data removed]",
      "text/plain": [
       "<Figure size 720x360 with 1 Axes>"
      ]
     },
     "metadata": {
      "needs_background": "light"
     },
     "output_type": "display_data"
    }
   ],
   "source": [
    "plt.figure(figsize=(10,5))\n",
    "feat_importances.nlargest(10).plot(kind='barh')\n",
    "plt.title(\"Ranking the important features\")\n",
    "plt.show()"
   ]
  },
  {
   "cell_type": "markdown",
   "metadata": {},
   "source": [
    "- Now we can identify that AFDP is the most important feature that contribute to y prediction\n",
    "- The least important features are AH, TAT, AP which have score < 0.035.\n",
    "- We will drop these 3 features and refitted the SVC"
   ]
  },
  {
   "cell_type": "markdown",
   "metadata": {},
   "source": [
    "#### Create a new dataset with 6 improtant features"
   ]
  },
  {
   "cell_type": "code",
   "execution_count": 140,
   "metadata": {},
   "outputs": [],
   "source": [
    "# Using the original dataset ( standardized values)\n",
    "# Drop 3 Unimprotant features and target variables\n",
    "X = new_df.drop(['AH','TAT', 'AP', 'CO', 'NOX' ], axis=1)\n",
    "y = new_df.CO\n",
    "X_train, X_test, y_train, y_test = train_test_split(X, y, test_size=0.10, random_state=555)\n",
    "X_train, X_val, y_train, y_val = train_test_split(X_train, y_train, test_size=0.30, random_state=555)\n",
    "ss = StandardScaler()\n",
    "ss.fit(X_train)\n",
    "X_train = ss.transform(X_train)\n",
    "X_val = ss.transform(X_val)\n",
    "X_test = ss.transform(X_test)\n",
    "\n",
    "\n",
    "# Recreate binary target y for the new dataset\n",
    "from sklearn.preprocessing import Binarizer\n",
    "binarizer = Binarizer(threshold=3)\n",
    "binarizer.fit([y_train])\n",
    "y_train_cat = binarizer.transform([y_train]).ravel()\n",
    "y_val_cat = binarizer.transform([y_val]).ravel()\n",
    "y_test_cat = binarizer.transform([y_test]).ravel()"
   ]
  },
  {
   "cell_type": "markdown",
   "metadata": {},
   "source": [
    "#### GridSearch on New X with selected 6 features"
   ]
  },
  {
   "cell_type": "code",
   "execution_count": 141,
   "metadata": {},
   "outputs": [],
   "source": [
    "# Perform GridSearch on New X with selected features\n",
    "svc = SVC()\n",
    "value = [0.00001, 0.0001, 0.001, 0.01, 0.1, 1, 10 ,100]\n",
    "params = {'C': value,\n",
    "          'gamma': value,\n",
    "           'kernel': ['rbf']}\n",
    "\n",
    "grid = GridSearchCV(estimator=svc, param_grid=params, verbose=1, cv=5, n_jobs=-1)"
   ]
  },
  {
   "cell_type": "code",
   "execution_count": 142,
   "metadata": {},
   "outputs": [
    {
     "name": "stdout",
     "output_type": "stream",
     "text": [
      "Fitting 5 folds for each of 64 candidates, totalling 320 fits\n"
     ]
    },
    {
     "name": "stderr",
     "output_type": "stream",
     "text": [
      "[Parallel(n_jobs=-1)]: Using backend LokyBackend with 4 concurrent workers.\n",
      "[Parallel(n_jobs=-1)]: Done  42 tasks      | elapsed:    3.4s\n",
      "[Parallel(n_jobs=-1)]: Done 192 tasks      | elapsed:   14.4s\n",
      "[Parallel(n_jobs=-1)]: Done 320 out of 320 | elapsed:   22.8s finished\n"
     ]
    },
    {
     "data": {
      "text/plain": [
       "SVC(C=1, gamma=10)"
      ]
     },
     "execution_count": 142,
     "metadata": {},
     "output_type": "execute_result"
    }
   ],
   "source": [
    "grid.fit(X_train, y_train_cat)\n",
    "grid.best_estimator_"
   ]
  },
  {
   "cell_type": "markdown",
   "metadata": {},
   "source": [
    "#### Fit the SVC model"
   ]
  },
  {
   "cell_type": "code",
   "execution_count": 143,
   "metadata": {},
   "outputs": [
    {
     "data": {
      "text/plain": [
       "SVC(C=1, gamma=10)"
      ]
     },
     "execution_count": 143,
     "metadata": {},
     "output_type": "execute_result"
    }
   ],
   "source": [
    "# Fit the best model\n",
    "gs_reg = SVC(kernel='rbf', C=1, gamma=10)\n",
    "gs_reg.fit(X_train, y_train_cat)"
   ]
  },
  {
   "cell_type": "code",
   "execution_count": 144,
   "metadata": {},
   "outputs": [
    {
     "name": "stdout",
     "output_type": "stream",
     "text": [
      "Accuracy Scores (Train):  0.9481290322580646\n",
      "Accuracy Scores (Validation):  0.9048765803732691 \n",
      "\n",
      "              precision    recall  f1-score   support\n",
      "\n",
      "         0.0       0.93      0.93      0.93      1069\n",
      "         1.0       0.87      0.87      0.87       592\n",
      "\n",
      "    accuracy                           0.90      1661\n",
      "   macro avg       0.90      0.90      0.90      1661\n",
      "weighted avg       0.90      0.90      0.90      1661\n",
      "\n",
      "\n",
      "Summary of Metrics:\n",
      "Sensitivity 0.866554\n",
      "Specificity 0.926099\n",
      "Precision 0.866554\n",
      "Accuracy 0.904877\n",
      "Balanced Accuracy 0.896327\n",
      "F1-score 0.866554\n"
     ]
    }
   ],
   "source": [
    "#Accuracy Train\n",
    "pred_train = gs_reg.predict(X_train)\n",
    "print(\"Accuracy Scores (Train): \",metrics.accuracy_score(y_true = y_train_cat, y_pred = pred_train))\n",
    "\n",
    "#Accuracy Validation\n",
    "pred_val = gs_reg.predict(X_val)\n",
    "print(\"Accuracy Scores (Validation): \",metrics.accuracy_score(y_true = y_val_cat, y_pred = pred_val), \"\\n\")\n",
    "\n",
    "#Print classification metrices\n",
    "performMetric(y_val_cat, pred_val, True)"
   ]
  },
  {
   "cell_type": "markdown",
   "metadata": {},
   "source": [
    "### Summary of Method 1"
   ]
  },
  {
   "cell_type": "markdown",
   "metadata": {},
   "source": [
    "- The new SVC model fitted with selected features has improved from the previous model.\n",
    "- The new model has  Accuracy and Specificity over 90%.\n",
    "- Compared to the previous model, the new model is more overfitting, its accuracy scores for train is 3% higher than that of the validation.\n",
    "- The SVC model fitted selected features perform a better job in y binary prediction as it can capture the improtant relationship by using relevant features and explain the dataset very well."
   ]
  },
  {
   "cell_type": "markdown",
   "metadata": {},
   "source": [
    "### Method 2: Compute and Specify Class Weight"
   ]
  },
  {
   "cell_type": "markdown",
   "metadata": {},
   "source": [
    "- As we can see from this histogram below, the class size is not equal.\n",
    "- To solve the imbalanced class, we can compute the class_weight using the sklearn.utils\n",
    "- Then, we will specify different class_weights in params for gridSerach so that the higher class-weight means you want to put more emphasis on a class. We will put more weight on the class 1 relative to class 0"
   ]
  },
  {
   "cell_type": "code",
   "execution_count": 145,
   "metadata": {},
   "outputs": [
    {
     "data": {
      "image/png": "[encoded data removed]",
      "text/plain": [
       "<Figure size 432x288 with 1 Axes>"
      ]
     },
     "metadata": {
      "needs_background": "light"
     },
     "output_type": "display_data"
    }
   ],
   "source": [
    "plt.hist(y_train_cat.ravel());"
   ]
  },
  {
   "cell_type": "markdown",
   "metadata": {},
   "source": [
    "#### Compute class_weights"
   ]
  },
  {
   "cell_type": "code",
   "execution_count": 146,
   "metadata": {},
   "outputs": [
    {
     "name": "stdout",
     "output_type": "stream",
     "text": [
      "[0.77717609 1.40195369]\n"
     ]
    }
   ],
   "source": [
    "# Compute class_weights\n",
    "from sklearn.utils import class_weight\n",
    "class_weights = class_weight.compute_class_weight('balanced', np.unique(y_train_cat),y_train_cat)\n",
    "print(class_weights)"
   ]
  },
  {
   "cell_type": "markdown",
   "metadata": {},
   "source": [
    "#### Fitted the model with selected features and class weight"
   ]
  },
  {
   "cell_type": "code",
   "execution_count": 147,
   "metadata": {},
   "outputs": [
    {
     "data": {
      "text/plain": [
       "SVC(C=100, class_weight={0: 0.77, 1: 1.4}, gamma=0.01)"
      ]
     },
     "execution_count": 147,
     "metadata": {},
     "output_type": "execute_result"
    }
   ],
   "source": [
    "# Fitted the model with selected features and class weight\n",
    "# The best C and gamma were carried over from the method 1 above \n",
    "gs_reg = SVC(kernel='rbf', C=100, gamma=0.01, class_weight={0: 0.77, 1: 1.4})\n",
    "gs_reg.fit(X_train, y_train_cat)"
   ]
  },
  {
   "cell_type": "code",
   "execution_count": 148,
   "metadata": {},
   "outputs": [
    {
     "name": "stdout",
     "output_type": "stream",
     "text": [
      "Accuracy Scores (Train):  0.9078709677419354\n",
      "Accuracy Scores (Validation):  0.8970499698976521 \n",
      "\n",
      "              precision    recall  f1-score   support\n",
      "\n",
      "         0.0       0.94      0.90      0.92      1069\n",
      "         1.0       0.83      0.89      0.86       592\n",
      "\n",
      "    accuracy                           0.90      1661\n",
      "   macro avg       0.88      0.90      0.89      1661\n",
      "weighted avg       0.90      0.90      0.90      1661\n",
      "\n",
      "\n",
      "Summary of Metrics:\n",
      "Sensitivity 0.890203\n",
      "Specificity 0.900842\n",
      "Precision 0.832543\n",
      "Accuracy 0.897050\n",
      "Balanced Accuracy 0.895522\n",
      "F1-score 0.860408\n"
     ]
    }
   ],
   "source": [
    "#Accuracy Train\n",
    "pred_train = gs_reg.predict(X_train)\n",
    "print(\"Accuracy Scores (Train): \",metrics.accuracy_score(y_true = y_train_cat, y_pred = pred_train))\n",
    "\n",
    "#Accuracy Validation\n",
    "pred_val = gs_reg.predict(X_val)\n",
    "print(\"Accuracy Scores (Validation): \",metrics.accuracy_score(y_true = y_val_cat, y_pred = pred_val), \"\\n\")\n",
    "\n",
    "#Print classification metrices\n",
    "performMetric(y_val_cat, pred_val, True)"
   ]
  },
  {
   "cell_type": "markdown",
   "metadata": {},
   "source": [
    "### Summary Method 2"
   ]
  },
  {
   "cell_type": "markdown",
   "metadata": {},
   "source": [
    "- The new SVC model fitted with selected features and class weight has improved from the previous model that fitted with all features as the model is not overfitting and its recall is also higher.\n",
    "- Compared to the previous model, the new model is not overfitting, its accuracy scores for train is only 0.001 higher than that of the validation.\n",
    "- The recall has improved as we compute class weight and take care of imbalanced class.\n",
    "- These implies the better prediction of class 1 of the new models with class-weight\n",
    "- We put more weight on the class 1 (weight 1.4) relative to class 0 (weight 0.77)."
   ]
  },
  {
   "cell_type": "markdown",
   "metadata": {},
   "source": [
    "### Compare Models with Logistic Regression, Decision Tree, Random Forest"
   ]
  },
  {
   "cell_type": "markdown",
   "metadata": {},
   "source": [
    "### 1. Logistic Regression"
   ]
  },
  {
   "cell_type": "markdown",
   "metadata": {},
   "source": [
    "#### Hyper-parameter tuning with C values"
   ]
  },
  {
   "cell_type": "code",
   "execution_count": 149,
   "metadata": {},
   "outputs": [],
   "source": [
    "from sklearn.linear_model import LogisticRegression\n",
    "C_list = [0.0001, 0.0005, 0.001, 0.005, 0.01, 0.05, 0.1, 0.5, 1, 2, 10, 50, 100, 200, 500, 1000, 2000, 5000, 10000]\n",
    "accuracy_train = []\n",
    "accuracy_valid = []\n",
    "for C in C_list:\n",
    "    clf = LogisticRegression(max_iter = 10000, solver='lbfgs', penalty='l2', C=C)\n",
    "    # Code here\n",
    "    clf.fit(X_train, y_train_cat)\n",
    "    pred_train = clf.predict(X_train)\n",
    "    accuracy_train.append(metrics.accuracy_score(y_true = y_train_cat, y_pred = pred_train))\n",
    "    pred_val = clf.predict(X_val)\n",
    "    accuracy_valid.append(metrics.accuracy_score(y_true = y_val_cat, y_pred = pred_val))"
   ]
  },
  {
   "cell_type": "code",
   "execution_count": 150,
   "metadata": {},
   "outputs": [
    {
     "data": {
      "image/png": "[encoded data removed]",
      "text/plain": [
       "<Figure size 720x360 with 1 Axes>"
      ]
     },
     "metadata": {
      "needs_background": "light"
     },
     "output_type": "display_data"
    }
   ],
   "source": [
    "# Code here Plot R2 Curve\n",
    "plt.figure(figsize=(10,5))\n",
    "plt.title(\"The Logistic regression with C values\")\n",
    "plt.plot(accuracy_train, 'bo--', label = 'train')\n",
    "plt.plot(accuracy_valid,'go--', label = 'valid')\n",
    "plt.xticks(np.arange(len(C_list)), C_list, rotation = 45)\n",
    "plt.xlabel('C Value')\n",
    "plt.ylabel('Accuracy Scores')\n",
    "plt.legend()\n",
    "plt.show()"
   ]
  },
  {
   "cell_type": "markdown",
   "metadata": {},
   "source": [
    "#### Best C value is 1"
   ]
  },
  {
   "cell_type": "code",
   "execution_count": 151,
   "metadata": {},
   "outputs": [
    {
     "data": {
      "text/plain": [
       "LogisticRegression(C=1, max_iter=10000)"
      ]
     },
     "execution_count": 151,
     "metadata": {},
     "output_type": "execute_result"
    }
   ],
   "source": [
    "clf = LogisticRegression(max_iter = 10000, solver='lbfgs', penalty='l2', C=1)\n",
    "clf.fit(X_train, y_train_cat)"
   ]
  },
  {
   "cell_type": "code",
   "execution_count": 152,
   "metadata": {},
   "outputs": [
    {
     "name": "stdout",
     "output_type": "stream",
     "text": [
      "Accuracy Scores (Train):  0.9070967741935484\n",
      "Accuracy Scores (Validation):  0.8976520168573149 \n",
      "\n",
      "\n",
      "Summary of Metrics:\n",
      "Sensitivity 0.864865\n",
      "Specificity 0.915809\n",
      "Precision 0.850498\n",
      "Accuracy 0.897652\n",
      "Balanced Accuracy 0.890337\n",
      "F1-score 0.857621\n"
     ]
    }
   ],
   "source": [
    "#Accuracy Train\n",
    "pred_train = clf.predict(X_train)\n",
    "print(\"Accuracy Scores (Train): \",metrics.accuracy_score(y_true = y_train_cat, y_pred = pred_train))\n",
    "\n",
    "#Accuracy Validation\n",
    "pred_val = clf.predict(X_val)\n",
    "print(\"Accuracy Scores (Validation): \",metrics.accuracy_score(y_true = y_val_cat, y_pred = pred_val), \"\\n\")\n",
    "\n",
    "#Print summary\n",
    "performMetric(y_val_cat, pred_val, False)"
   ]
  },
  {
   "cell_type": "markdown",
   "metadata": {},
   "source": [
    "- SVC performs slightly better than the logistic regression as the SVC's accuracy, specificity are higher.\n",
    "- Both SVC and Logistic regression models have a very tiny gap (less than 1%) between accuracy score of train and validation set, so they are not overfitting."
   ]
  },
  {
   "cell_type": "markdown",
   "metadata": {},
   "source": [
    "### 2. Decision Tree"
   ]
  },
  {
   "cell_type": "markdown",
   "metadata": {},
   "source": [
    "#### Hyper-parameter tuning with Max Depth values"
   ]
  },
  {
   "cell_type": "code",
   "execution_count": 153,
   "metadata": {},
   "outputs": [],
   "source": [
    "MD_list = [2, 5, 10, 15, 20, 30]\n",
    "accuracy_train = []\n",
    "accuracy_valid = []\n",
    "for md in MD_list:\n",
    "    clf = DecisionTreeClassifier(max_depth=md, random_state = 42)\n",
    "    clf.fit(X_train, y_train_cat)\n",
    "    pred_train = clf.predict(X_train)\n",
    "    accuracy_train.append(metrics.accuracy_score(y_true = y_train_cat, y_pred = pred_train))\n",
    "    pred_val = clf.predict(X_val)\n",
    "    accuracy_valid.append(metrics.accuracy_score(y_true = y_val_cat, y_pred = pred_val))\n"
   ]
  },
  {
   "cell_type": "code",
   "execution_count": 154,
   "metadata": {},
   "outputs": [
    {
     "data": {
      "image/png": "[encoded data removed]",
      "text/plain": [
       "<Figure size 720x360 with 1 Axes>"
      ]
     },
     "metadata": {
      "needs_background": "light"
     },
     "output_type": "display_data"
    }
   ],
   "source": [
    "# Code here Plot R2 Curve\n",
    "plt.figure(figsize=(10,5))\n",
    "plt.title(\"The Decision Tree with Max Depth values\")\n",
    "plt.plot(accuracy_train, 'bo--', label = 'train')\n",
    "plt.plot(accuracy_valid,'go--', label = 'valid')\n",
    "plt.xticks(np.arange(len(MD_list)), MD_list, rotation = 45)\n",
    "plt.xlabel('Max Depth Value')\n",
    "plt.ylabel('Accuracy Scores')\n",
    "plt.legend()\n",
    "plt.show()"
   ]
  },
  {
   "cell_type": "markdown",
   "metadata": {},
   "source": [
    "#### Best Max Depth is 5"
   ]
  },
  {
   "cell_type": "code",
   "execution_count": 155,
   "metadata": {},
   "outputs": [
    {
     "data": {
      "text/plain": [
       "DecisionTreeClassifier(max_depth=5, random_state=42)"
      ]
     },
     "execution_count": 155,
     "metadata": {},
     "output_type": "execute_result"
    }
   ],
   "source": [
    "clf =  DecisionTreeClassifier(max_depth=5, random_state = 42)\n",
    "clf.fit(X_train, y_train_cat)"
   ]
  },
  {
   "cell_type": "code",
   "execution_count": 156,
   "metadata": {},
   "outputs": [
    {
     "name": "stdout",
     "output_type": "stream",
     "text": [
      "Accuracy Scores (Train):  0.9158709677419354\n",
      "Accuracy Scores (Validation):  0.8880192655027093 \n",
      "\n",
      "\n",
      "Summary of Metrics:\n",
      "Sensitivity 0.824324\n",
      "Specificity 0.923293\n",
      "Precision 0.856140\n",
      "Accuracy 0.888019\n",
      "Balanced Accuracy 0.873809\n",
      "F1-score 0.839931\n"
     ]
    }
   ],
   "source": [
    "#Accuracy Train\n",
    "pred_train = clf.predict(X_train)\n",
    "print(\"Accuracy Scores (Train): \",metrics.accuracy_score(y_true = y_train_cat, y_pred = pred_train))\n",
    "\n",
    "#Accuracy Validation\n",
    "pred_val = clf.predict(X_val)\n",
    "print(\"Accuracy Scores (Validation): \",metrics.accuracy_score(y_true = y_val_cat, y_pred = pred_val), \"\\n\")\n",
    "\n",
    "#Print summary\n",
    "performMetric(y_val_cat, pred_val, False)"
   ]
  },
  {
   "cell_type": "markdown",
   "metadata": {},
   "source": [
    "- SVC performs better than the Decision Tree as the SVC's accuracy, F1, specificity are higher.\n",
    "- SVC have a fewer gap (less than 1%) between accuracy score of train and validation set, so they are not overfitting.\n",
    "- Decision Tree has a 3% gap between accuracy score of train and validation set"
   ]
  },
  {
   "cell_type": "markdown",
   "metadata": {},
   "source": [
    "### 3. Random Forest"
   ]
  },
  {
   "cell_type": "markdown",
   "metadata": {},
   "source": [
    "#### Hyper-parameter tuning with Number of Estimators"
   ]
  },
  {
   "cell_type": "code",
   "execution_count": 157,
   "metadata": {},
   "outputs": [],
   "source": [
    "ET_list = [10, 50, 100, 200, 300, 400]\n",
    "accuracy_train = []\n",
    "accuracy_valid = []\n",
    "for et in ET_list:\n",
    "    clf = RandomForestClassifier(n_estimators=et, random_state = 42)\n",
    "    clf.fit(X_train, y_train_cat)\n",
    "    pred_train = clf.predict(X_train)\n",
    "    accuracy_train.append(metrics.accuracy_score(y_true = y_train_cat, y_pred = pred_train))\n",
    "    pred_val = clf.predict(X_val)\n",
    "    accuracy_valid.append(metrics.accuracy_score(y_true = y_val_cat, y_pred = pred_val))"
   ]
  },
  {
   "cell_type": "code",
   "execution_count": 158,
   "metadata": {},
   "outputs": [
    {
     "data": {
      "image/png": "[encoded data removed]",
      "text/plain": [
       "<Figure size 720x360 with 1 Axes>"
      ]
     },
     "metadata": {
      "needs_background": "light"
     },
     "output_type": "display_data"
    }
   ],
   "source": [
    "# Code here Plot R2 Curve\n",
    "plt.figure(figsize=(10,5))\n",
    "plt.title(\"The Random Forest with Number of Estimators\")\n",
    "plt.plot(accuracy_train, 'bo--', label = 'train')\n",
    "plt.plot(accuracy_valid,'go--', label = 'valid')\n",
    "plt.xticks(np.arange(len(ET_list)), ET_list, rotation = 45)\n",
    "plt.xlabel('Number of Estimators')\n",
    "plt.ylabel('Accuracy Scores')\n",
    "plt.legend()\n",
    "plt.show()"
   ]
  },
  {
   "cell_type": "markdown",
   "metadata": {},
   "source": [
    "#### Best Number of Estimators is 400"
   ]
  },
  {
   "cell_type": "markdown",
   "metadata": {},
   "source": [
    "#### Perform GridSearch"
   ]
  },
  {
   "cell_type": "code",
   "execution_count": 159,
   "metadata": {},
   "outputs": [],
   "source": [
    "MS_list = [10, 50, 100, 200, 300]\n",
    "ET_list = [400]\n",
    "MD_list = [2, 5, 10, 15, 20, 30]\n",
    "params = {'n_estimators': ET_list,\n",
    "          'min_samples_split': MS_list,\n",
    "         'max_depth': MD_list, 'random_state': [42]}\n",
    "\n",
    "rf = RandomForestClassifier()\n",
    "grid = GridSearchCV(estimator=rf, param_grid=params, verbose=1, cv=5, n_jobs=-1)"
   ]
  },
  {
   "cell_type": "code",
   "execution_count": 160,
   "metadata": {},
   "outputs": [
    {
     "name": "stdout",
     "output_type": "stream",
     "text": [
      "Fitting 5 folds for each of 30 candidates, totalling 150 fits\n"
     ]
    },
    {
     "name": "stderr",
     "output_type": "stream",
     "text": [
      "[Parallel(n_jobs=-1)]: Using backend LokyBackend with 4 concurrent workers.\n",
      "[Parallel(n_jobs=-1)]: Done  42 tasks      | elapsed:   16.3s\n",
      "[Parallel(n_jobs=-1)]: Done 150 out of 150 | elapsed:  1.2min finished\n"
     ]
    },
    {
     "data": {
      "text/plain": [
       "GridSearchCV(cv=5, estimator=RandomForestClassifier(), n_jobs=-1,\n",
       "             param_grid={'max_depth': [2, 5, 10, 15, 20, 30],\n",
       "                         'min_samples_split': [10, 50, 100, 200, 300],\n",
       "                         'n_estimators': [400], 'random_state': [42]},\n",
       "             verbose=1)"
      ]
     },
     "execution_count": 160,
     "metadata": {},
     "output_type": "execute_result"
    }
   ],
   "source": [
    "grid.fit(X_train, y_train_cat)"
   ]
  },
  {
   "cell_type": "code",
   "execution_count": 161,
   "metadata": {},
   "outputs": [
    {
     "data": {
      "text/plain": [
       "RandomForestClassifier(max_depth=10, min_samples_split=10, n_estimators=400,\n",
       "                       random_state=42)"
      ]
     },
     "execution_count": 161,
     "metadata": {},
     "output_type": "execute_result"
    }
   ],
   "source": [
    "grid.best_estimator_"
   ]
  },
  {
   "cell_type": "code",
   "execution_count": 162,
   "metadata": {},
   "outputs": [
    {
     "data": {
      "text/plain": [
       "RandomForestClassifier(max_depth=10, min_samples_split=10, n_estimators=400,\n",
       "                       random_state=42)"
      ]
     },
     "execution_count": 162,
     "metadata": {},
     "output_type": "execute_result"
    }
   ],
   "source": [
    "clf= RandomForestClassifier(max_depth=10, min_samples_split=10, n_estimators=400,\n",
    "                       random_state=42)\n",
    "clf.fit(X_train, y_train_cat)"
   ]
  },
  {
   "cell_type": "code",
   "execution_count": 163,
   "metadata": {},
   "outputs": [
    {
     "name": "stdout",
     "output_type": "stream",
     "text": [
      "Accuracy Scores (Train):  0.9649032258064516\n",
      "Accuracy Scores (Validation):  0.9054786273329319 \n",
      "\n",
      "\n",
      "Summary of Metrics:\n",
      "Sensitivity 0.864865\n",
      "Specificity 0.927970\n",
      "Precision 0.869270\n",
      "Accuracy 0.905479\n",
      "Balanced Accuracy 0.896417\n",
      "F1-score 0.867062\n"
     ]
    }
   ],
   "source": [
    "#Accuracy Train\n",
    "pred_train = clf.predict(X_train)\n",
    "print(\"Accuracy Scores (Train): \",metrics.accuracy_score(y_true = y_train_cat, y_pred = pred_train))\n",
    "\n",
    "#Accuracy Validation\n",
    "pred_val = clf.predict(X_val)\n",
    "print(\"Accuracy Scores (Validation): \",metrics.accuracy_score(y_true = y_val_cat, y_pred = pred_val), \"\\n\")\n",
    "\n",
    "#Print summary\n",
    "performMetric(y_val_cat, pred_val, False)"
   ]
  },
  {
   "cell_type": "markdown",
   "metadata": {},
   "source": [
    "### We will fit the SVC, Logistic Regression, decision tree and RandomForest to compare the performance of all models and write summary."
   ]
  },
  {
   "cell_type": "code",
   "execution_count": 164,
   "metadata": {},
   "outputs": [],
   "source": [
    "def compareModels(name,clf):\n",
    "    clf.fit(X_train, np.ravel(y_train_cat))\n",
    "    predicted = clf.predict(X_val)\n",
    "    confusion_matrix =  pd.crosstab(index=np.ravel(y_val_cat), columns=predicted.ravel(), rownames=['Expected'], colnames=['Predicted'])\n",
    "    sns.heatmap(confusion_matrix, annot=True, square=False, fmt='', cbar=False)\n",
    "    accuracy = np.round(metrics.accuracy_score(y_val_cat , predicted),3)\n",
    "    plt.title(name + \"  \" , fontsize = 15)\n",
    "    plt.show()\n",
    "    print (metrics.classification_report(y_val_cat,predicted))"
   ]
  },
  {
   "cell_type": "code",
   "execution_count": 165,
   "metadata": {},
   "outputs": [],
   "source": [
    "svc =SVC(kernel='rbf', C=100, gamma=0.01)\n",
    "lg = LogisticRegression(max_iter = 10000, solver='lbfgs', penalty='l2', C=1)#Logistic\n",
    "dt = DecisionTreeClassifier(max_depth=5, random_state =42)#Decision tree\n",
    "rf = RandomForestClassifier(max_depth=10, min_samples_split=10, n_estimators=400,random_state=42)#Random Forest"
   ]
  },
  {
   "cell_type": "code",
   "execution_count": 166,
   "metadata": {},
   "outputs": [
    {
     "data": {
      "image/png": "[encoded data removed]",
      "text/plain": [
       "<Figure size 432x288 with 1 Axes>"
      ]
     },
     "metadata": {
      "needs_background": "light"
     },
     "output_type": "display_data"
    },
    {
     "name": "stdout",
     "output_type": "stream",
     "text": [
      "              precision    recall  f1-score   support\n",
      "\n",
      "         0.0       0.92      0.93      0.92      1069\n",
      "         1.0       0.87      0.84      0.86       592\n",
      "\n",
      "    accuracy                           0.90      1661\n",
      "   macro avg       0.89      0.89      0.89      1661\n",
      "weighted avg       0.90      0.90      0.90      1661\n",
      "\n"
     ]
    },
    {
     "data": {
      "image/png": "[encoded data removed]",
      "text/plain": [
       "<Figure size 432x288 with 1 Axes>"
      ]
     },
     "metadata": {
      "needs_background": "light"
     },
     "output_type": "display_data"
    },
    {
     "name": "stdout",
     "output_type": "stream",
     "text": [
      "              precision    recall  f1-score   support\n",
      "\n",
      "         0.0       0.92      0.92      0.92      1069\n",
      "         1.0       0.85      0.86      0.86       592\n",
      "\n",
      "    accuracy                           0.90      1661\n",
      "   macro avg       0.89      0.89      0.89      1661\n",
      "weighted avg       0.90      0.90      0.90      1661\n",
      "\n"
     ]
    },
    {
     "data": {
      "image/png": "[encoded data removed]",
      "text/plain": [
       "<Figure size 432x288 with 1 Axes>"
      ]
     },
     "metadata": {
      "needs_background": "light"
     },
     "output_type": "display_data"
    },
    {
     "name": "stdout",
     "output_type": "stream",
     "text": [
      "              precision    recall  f1-score   support\n",
      "\n",
      "         0.0       0.90      0.92      0.91      1069\n",
      "         1.0       0.86      0.82      0.84       592\n",
      "\n",
      "    accuracy                           0.89      1661\n",
      "   macro avg       0.88      0.87      0.88      1661\n",
      "weighted avg       0.89      0.89      0.89      1661\n",
      "\n"
     ]
    },
    {
     "data": {
      "image/png": "[encoded data removed]",
      "text/plain": [
       "<Figure size 432x288 with 1 Axes>"
      ]
     },
     "metadata": {
      "needs_background": "light"
     },
     "output_type": "display_data"
    },
    {
     "name": "stdout",
     "output_type": "stream",
     "text": [
      "              precision    recall  f1-score   support\n",
      "\n",
      "         0.0       0.93      0.93      0.93      1069\n",
      "         1.0       0.87      0.86      0.87       592\n",
      "\n",
      "    accuracy                           0.91      1661\n",
      "   macro avg       0.90      0.90      0.90      1661\n",
      "weighted avg       0.91      0.91      0.91      1661\n",
      "\n"
     ]
    }
   ],
   "source": [
    "#create an array of classifiers\n",
    "names = [\"SVC\", \"Logistic Regression\", \"Decision Tree\", \"RandomForestClassifier\"]\n",
    "classifiers= [svc, lg, dt,rf]\n",
    "\n",
    "#loop through the classifiers\n",
    "for name, clf in zip(names, classifiers):\n",
    "    compareModels(name,clf)"
   ]
  },
  {
   "cell_type": "markdown",
   "metadata": {},
   "source": [
    "### Summary of Q9: Model Comparison"
   ]
  },
  {
   "cell_type": "markdown",
   "metadata": {},
   "source": [
    "- Among 4 models, the Decision Tree performs the worst with the lowest accuracy, F1, recall, specificity than other models.\n",
    "- The SVC, Logistic Regression, and Random Forest performs very well and comparable to each other as the accuracy of models are 90% and F1 score are 86%.\n",
    "- The SVC has the highest precision rate and specificity which indicates the model explain the class 0 and 1 well.\n",
    "- Among 4 models, Random Forest clssifier has the highest F1, accuracy rate, and recall so it can predict class 1 well.\n",
    "- In conclusion, SVC and Random Forest perform in general better than Logistic Regression and Decision Tree model."
   ]
  },
  {
   "cell_type": "markdown",
   "metadata": {},
   "source": [
    "## Q10 [10]"
   ]
  },
  {
   "cell_type": "markdown",
   "metadata": {},
   "source": [
    "- Choose the best fitted model from each of the regressors (1 from Linear Regression, 1 from Random Forest, 1 from SVR)\n",
    "- Create a table summarizing results on the **test** set:\n",
    "    - Show the regression performance metric of your choice on test data for each model.\n",
    "- Which model is best for regression? Is this in line with your analysis or is this not expected?\n",
    "    \n",
    "- Choose the best fitted model from each of the classifiers (1 from RBF Kernel SVC, 1 from each of the models you have used)\n",
    "- Create a table summarizing results on the **test** set:\n",
    "    - Show the classification performance metric of your choice on test data for each model. \n",
    "- Which model is best for classification? Is this in line with your analysis or is this not expected? \n",
    "\n",
    "\n",
    "- What did you learn in this project?"
   ]
  },
  {
   "cell_type": "markdown",
   "metadata": {},
   "source": [
    "### 10.1 Regression Models"
   ]
  },
  {
   "cell_type": "code",
   "execution_count": 167,
   "metadata": {},
   "outputs": [],
   "source": [
    "# The best model using KPCAs with 50s, \n",
    "# we need to transform the dimension of test set to the same dimension\n",
    "kpca = KernelPCA(n_components=100, kernel='rbf', n_jobs=-1, remove_zero_eig=True)\n",
    "kpca.fit(X_train)\n",
    "X_train_kpca = kpca.transform(X_train)\n",
    "X_val_kpca = kpca.transform(X_val)\n",
    "X_test_kpca = kpca.transform(X_test)\n",
    "X_train_kpca = X_train_kpca[:, 0:50]\n",
    "X_val_kpca = X_val_kpca[:, 0:50]\n",
    "X_test_kpca = X_test_kpca[:, 0:50]"
   ]
  },
  {
   "cell_type": "code",
   "execution_count": 168,
   "metadata": {},
   "outputs": [],
   "source": [
    "#This function prints the test set performance for each model\n",
    "def compareRegressor(modelList, x_train, y_train, x_test, y_test):\n",
    "    r2_list = []\n",
    "    rmse_list= []\n",
    "    for m in modelList:\n",
    "        m.fit(x_train, y_train)\n",
    "        pred = m.predict(x_test)\n",
    "        rmse_list.append(sqrt(metrics.mean_squared_error(y_test, pred)))\n",
    "        r2_list.append(metrics.r2_score(y_test, pred))\n",
    "    return r2_list, rmse_list"
   ]
  },
  {
   "cell_type": "code",
   "execution_count": 169,
   "metadata": {},
   "outputs": [],
   "source": [
    "#Initialize models\n",
    "lreg = LinearRegression()\n",
    "rreg = RandomForestRegressor(max_depth=30, min_samples_split=50, n_estimators=50, random_state=42)\n",
    "svr = SVR(kernel='rbf', C=100, gamma=0.1)\n",
    "\n",
    "#create an array of models\n",
    "names = [ \"Linear Reg\", \"Random Reg\", \"SVR\"]\n",
    "classifiers= [lreg, rreg, svr]\n",
    "r2_lst, rmse_lst = compareRegressor(classifiers, X_train_kpca, y_train, X_test_kpca, y_test)"
   ]
  },
  {
   "cell_type": "markdown",
   "metadata": {},
   "source": [
    "#### Create tabel for test set"
   ]
  },
  {
   "cell_type": "code",
   "execution_count": 170,
   "metadata": {},
   "outputs": [
    {
     "name": "stdout",
     "output_type": "stream",
     "text": [
      "Summarize Regression Metrics for Test set\n"
     ]
    },
    {
     "data": {
      "text/html": [
       "<div>\n",
       "<style scoped>\n",
       "    .dataframe tbody tr th:only-of-type {\n",
       "        vertical-align: middle;\n",
       "    }\n",
       "\n",
       "    .dataframe tbody tr th {\n",
       "        vertical-align: top;\n",
       "    }\n",
       "\n",
       "    .dataframe thead th {\n",
       "        text-align: right;\n",
       "    }\n",
       "</style>\n",
       "<table border=\"1\" class=\"dataframe\">\n",
       "  <thead>\n",
       "    <tr style=\"text-align: right;\">\n",
       "      <th></th>\n",
       "      <th>R2</th>\n",
       "      <th>RMSE</th>\n",
       "    </tr>\n",
       "  </thead>\n",
       "  <tbody>\n",
       "    <tr>\n",
       "      <th>Linear Reg</th>\n",
       "      <td>0.799292</td>\n",
       "      <td>0.541677</td>\n",
       "    </tr>\n",
       "    <tr>\n",
       "      <th>Random Reg</th>\n",
       "      <td>0.800961</td>\n",
       "      <td>0.539420</td>\n",
       "    </tr>\n",
       "    <tr>\n",
       "      <th>SVR</th>\n",
       "      <td>0.800092</td>\n",
       "      <td>0.540596</td>\n",
       "    </tr>\n",
       "  </tbody>\n",
       "</table>\n",
       "</div>"
      ],
      "text/plain": [
       "                  R2      RMSE\n",
       "Linear Reg  0.799292  0.541677\n",
       "Random Reg  0.800961  0.539420\n",
       "SVR         0.800092  0.540596"
      ]
     },
     "execution_count": 170,
     "metadata": {},
     "output_type": "execute_result"
    }
   ],
   "source": [
    "df = pd.DataFrame({ \"R2\": r2_lst, \"RMSE\": rmse_lst,}, index=names)\n",
    "print(\"Summarize Regression Metrics for Test set\")\n",
    "df"
   ]
  },
  {
   "cell_type": "markdown",
   "metadata": {},
   "source": [
    "### Summary of Regressors"
   ]
  },
  {
   "cell_type": "markdown",
   "metadata": {},
   "source": [
    "- From the tabel above, the random regression performs the best which is slighly better than SVR as it has a higher R2 and lower RMSE.\n",
    "- The linear regression slightly underperforms other models.\n",
    "- The results in line with my analysis as the data has some variables have a non-linear structure, so Random Regressor and SVR would capture this structure very well. \n",
    "- Additionally, I have removed the outliers, so I expected all models to perform well after remocing outliers as SVR and linear regression are sensitive to noise.\n",
    "- The final model have significantly improved from the previous models.\n",
    "- All regressor models in the final stage have an accuracy rate over 79.9% and they are not overfitting.\n"
   ]
  },
  {
   "cell_type": "markdown",
   "metadata": {},
   "source": [
    "### 10.2 Classification Model"
   ]
  },
  {
   "cell_type": "code",
   "execution_count": 171,
   "metadata": {},
   "outputs": [],
   "source": [
    "#This function prints the test set performance for each model\n",
    "def compareClssifier(name,clf, X_train, y_train_cat, X_test, y_test_cat ):\n",
    "    clf.fit(X_train, np.ravel(y_train_cat))\n",
    "    predicted = clf.predict(X_test)\n",
    "    confusion_matrix =  pd.crosstab(index=np.ravel(y_test_cat), columns=predicted.ravel(), rownames=['Expected'], colnames=['Predicted'])\n",
    "    sns.heatmap(confusion_matrix, annot=True, square=False, fmt='', cbar=False)\n",
    "    accuracy = np.round(metrics.accuracy_score(y_test_cat , predicted),3)\n",
    "    plt.title(name + \"  \" , fontsize = 15)\n",
    "    plt.show()\n",
    "    print (metrics.classification_report(y_test_cat,predicted))"
   ]
  },
  {
   "cell_type": "code",
   "execution_count": 172,
   "metadata": {},
   "outputs": [
    {
     "data": {
      "image/png": "[encoded data removed]",
      "text/plain": [
       "<Figure size 432x288 with 1 Axes>"
      ]
     },
     "metadata": {
      "needs_background": "light"
     },
     "output_type": "display_data"
    },
    {
     "name": "stdout",
     "output_type": "stream",
     "text": [
      "              precision    recall  f1-score   support\n",
      "\n",
      "         0.0       0.90      0.96      0.93       389\n",
      "         1.0       0.92      0.81      0.86       227\n",
      "\n",
      "    accuracy                           0.91       616\n",
      "   macro avg       0.91      0.89      0.90       616\n",
      "weighted avg       0.91      0.91      0.90       616\n",
      "\n"
     ]
    },
    {
     "data": {
      "image/png": "[encoded data removed]",
      "text/plain": [
       "<Figure size 432x288 with 1 Axes>"
      ]
     },
     "metadata": {
      "needs_background": "light"
     },
     "output_type": "display_data"
    },
    {
     "name": "stdout",
     "output_type": "stream",
     "text": [
      "              precision    recall  f1-score   support\n",
      "\n",
      "         0.0       0.93      0.95      0.94       389\n",
      "         1.0       0.91      0.87      0.89       227\n",
      "\n",
      "    accuracy                           0.92       616\n",
      "   macro avg       0.92      0.91      0.92       616\n",
      "weighted avg       0.92      0.92      0.92       616\n",
      "\n"
     ]
    },
    {
     "data": {
      "image/png": "[encoded data removed]",
      "text/plain": [
       "<Figure size 432x288 with 1 Axes>"
      ]
     },
     "metadata": {
      "needs_background": "light"
     },
     "output_type": "display_data"
    },
    {
     "name": "stdout",
     "output_type": "stream",
     "text": [
      "              precision    recall  f1-score   support\n",
      "\n",
      "         0.0       0.91      0.93      0.92       389\n",
      "         1.0       0.88      0.83      0.85       227\n",
      "\n",
      "    accuracy                           0.89       616\n",
      "   macro avg       0.89      0.88      0.89       616\n",
      "weighted avg       0.89      0.89      0.89       616\n",
      "\n"
     ]
    },
    {
     "data": {
      "image/png": "[encoded data removed]",
      "text/plain": [
       "<Figure size 432x288 with 1 Axes>"
      ]
     },
     "metadata": {
      "needs_background": "light"
     },
     "output_type": "display_data"
    },
    {
     "name": "stdout",
     "output_type": "stream",
     "text": [
      "              precision    recall  f1-score   support\n",
      "\n",
      "         0.0       0.92      0.94      0.93       389\n",
      "         1.0       0.89      0.86      0.87       227\n",
      "\n",
      "    accuracy                           0.91       616\n",
      "   macro avg       0.90      0.90      0.90       616\n",
      "weighted avg       0.91      0.91      0.91       616\n",
      "\n"
     ]
    }
   ],
   "source": [
    "svc =SVC(kernel='rbf', C=100, gamma=0.01)\n",
    "lg = LogisticRegression(max_iter = 10000, solver='lbfgs', penalty='l2', C=1)#Logistic\n",
    "dt = DecisionTreeClassifier(max_depth=5, random_state =42)#Decision tree\n",
    "rf = RandomForestClassifier(n_estimators=400, random_state =42)#Random Forest\n",
    "\n",
    "#create an array of classifiers\n",
    "names = [\"SVC\", \"Logistic Regression\", \"Decision Tree\", \"RandomForestClassifier\"]\n",
    "classifiers= [svc, lg, dt,rf]\n",
    "\n",
    "#loop through the classifiers\n",
    "for name, clf in zip(names, classifiers):\n",
    "    compareClssifier(name,clf, X_train, y_train_cat, X_test, y_test_cat )"
   ]
  },
  {
   "cell_type": "markdown",
   "metadata": {},
   "source": [
    "### Summary of Classifier Comparison"
   ]
  },
  {
   "cell_type": "markdown",
   "metadata": {},
   "source": [
    "- The Logistic Regression performs the best but SVC and Random Forest are still comparable to Logistic Regression as the accuracy of models are over 91% and F1 score are over 86%.\n",
    "- The Logistic Regression has higher F1 but lower specificity than SVC.\n",
    "- All models can explain the class 0 and 1 well and has a high balanced accuracy rate.\n",
    "- The results in line with my analysis as the data has some variables with high correlation, so logistic regression would capture this relationship very well. \n",
    "- Additionally, I have removed the outliers, so I expected both logistic regression, Random Forest, and SVC can perform well. \n",
    "- The final model have significantly improved from the previous models.\n",
    "- All models in the final stage have an accuracy rate over 90% and they are not overfitting."
   ]
  },
  {
   "cell_type": "markdown",
   "metadata": {},
   "source": [
    "### 10.3 What did you learn in this project?"
   ]
  },
  {
   "cell_type": "markdown",
   "metadata": {},
   "source": [
    "Overall, I learned how to develop the regression model for the numeric features. I also learned how to implement various SVM with kernel and fiited the model with different dimesions of inputs as we applied both linear PCA and Kernel PCA. I noticed that there are the improvment when we use Kernel PCAs as we can increase the model's ability to capture the non-linear relationship. There are also a trade-off between dimesion reduction using linear PCAs and we need to preserve the information. Lastly, I learned how to improve the models using various approach such as using feather selection, removing outliers, applying class weight, and increasing the size of kernel PCAs. This project is reallhy useful and give me hands-on experience to apply the concepts we have leanred in class."
   ]
  },
  {
   "cell_type": "markdown",
   "metadata": {},
   "source": [
    "# Well done!"
   ]
  },
  {
   "cell_type": "code",
   "execution_count": null,
   "metadata": {},
   "outputs": [],
   "source": []
  }
 ],
 "metadata": {
  "kernelspec": {
   "display_name": "Python 3",
   "language": "python",
   "name": "python3"
  },
  "language_info": {
   "codemirror_mode": {
    "name": "ipython",
    "version": 3
   },
   "file_extension": ".py",
   "mimetype": "text/x-python",
   "name": "python",
   "nbconvert_exporter": "python",
   "pygments_lexer": "ipython3",
   "version": "3.8.3"
  },
  "toc": {
   "base_numbering": 1,
   "nav_menu": {},
   "number_sections": false,
   "sideBar": false,
   "skip_h1_title": false,
   "title_cell": "Table of Contents",
   "title_sidebar": "Contents",
   "toc_cell": false,
   "toc_position": {},
   "toc_section_display": false,
   "toc_window_display": false
  }
 },
 "nbformat": 4,
 "nbformat_minor": 1
}
